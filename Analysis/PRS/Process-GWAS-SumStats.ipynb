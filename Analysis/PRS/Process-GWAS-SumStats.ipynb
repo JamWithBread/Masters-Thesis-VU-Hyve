{
 "cells": [
  {
   "cell_type": "code",
   "execution_count": null,
   "id": "6b2c2414",
   "metadata": {},
   "outputs": [],
   "source": [
    "import pandas as pd\n",
    "import time\n",
    "import os\n",
    "import numpy as np"
   ]
  },
  {
   "cell_type": "code",
   "execution_count": null,
   "id": "19c9c9f1",
   "metadata": {},
   "outputs": [],
   "source": [
    "test_path = '/Users/jerenolsen/Desktop/GWAS_Summary_Stats/categorical-20002-both_sexes-1330_first_100000.tsv'\n",
    "gwas_path = '/Users/jerenolsen/Desktop/GWAS_Summary_Stats/GERD-icd10-K21-both_sexes.tsv'"
   ]
  },
  {
   "cell_type": "code",
   "execution_count": null,
   "id": "800939f3",
   "metadata": {},
   "outputs": [],
   "source": [
    "def get_cols(filepath):\n",
    "    line1 = None\n",
    "    with open(filepath, 'r') as f:\n",
    "        for line in f:\n",
    "            line1 = line\n",
    "            break        \n",
    "            \n",
    "    line1 = line1.strip('\\n').split('\\t')\n",
    "            \n",
    "    f.close()\n",
    "    \n",
    "    return line1\n",
    "\n",
    "def get_types(filepath):\n",
    "    col_line = None\n",
    "    val_line = None\n",
    "    \n",
    "    df = pd.read_csv(filepath, nrows=3, sep='\\t')\n",
    "\n",
    "    cols = df.columns\n",
    "    types = df.dtypes\n",
    "    type_dict = {col:[dtype] for col,dtype in zip(cols,types)}\n",
    "\n",
    "    df_types = pd.DataFrame.from_dict(type_dict)\n",
    "    \n",
    "    return df_types"
   ]
  },
  {
   "cell_type": "code",
   "execution_count": null,
   "id": "fd38a170",
   "metadata": {},
   "outputs": [],
   "source": [
    "df_types = get_types(gwas_path) #Recast these types later"
   ]
  },
  {
   "cell_type": "code",
   "execution_count": null,
   "id": "d58ef27d",
   "metadata": {},
   "outputs": [],
   "source": [
    "df_types['chr'] = np.dtype(str)"
   ]
  },
  {
   "cell_type": "code",
   "execution_count": null,
   "id": "d105a822",
   "metadata": {},
   "outputs": [],
   "source": [
    "type(df_types.loc[0]['ref'])"
   ]
  },
  {
   "cell_type": "code",
   "execution_count": null,
   "id": "aa22b702",
   "metadata": {},
   "outputs": [],
   "source": [
    "line1 = get_cols(gwas_path)\n",
    "cols = line1\n",
    "cols_to_keep = [col for col in line1 if 'AFR' not in col and 'CSA' not in col and 'meta' not in col and 'MID' not in col and 'EAS' not in col and 'AMR' not in col]\n",
    "dtype = {col:str for col in cols}"
   ]
  },
  {
   "cell_type": "code",
   "execution_count": null,
   "id": "0f1375cd",
   "metadata": {},
   "outputs": [],
   "source": [
    "cols"
   ]
  },
  {
   "cell_type": "code",
   "execution_count": null,
   "id": "6d9ef239",
   "metadata": {},
   "outputs": [],
   "source": [
    "cols_to_keep"
   ]
  },
  {
   "cell_type": "code",
   "execution_count": null,
   "id": "c375d4b1",
   "metadata": {
    "scrolled": false
   },
   "outputs": [],
   "source": [
    "chunks = pd.read_csv(gwas_path, names = cols,header=0,dtype=dtype, sep='\\t', chunksize = 100000)\n",
    "filtered_chunks = []\n",
    "i = 0\n",
    "for chunk in chunks:\n",
    "    filtered_chunks.append(chunk[cols_to_keep])\n",
    "    i+=1\n",
    "    print(f\"Chunk {i} finished\")"
   ]
  },
  {
   "cell_type": "code",
   "execution_count": null,
   "id": "2da5a8b9",
   "metadata": {},
   "outputs": [],
   "source": [
    "df = pd.concat(filtered_chunks)"
   ]
  },
  {
   "cell_type": "code",
   "execution_count": null,
   "id": "e7e0c5c4",
   "metadata": {},
   "outputs": [],
   "source": [
    "df "
   ]
  },
  {
   "cell_type": "code",
   "execution_count": null,
   "id": "abe30dae",
   "metadata": {},
   "outputs": [],
   "source": [
    "# Target col names: rsid,chr,pos,a0,a1,beta,beta_se,N,p"
   ]
  },
  {
   "cell_type": "code",
   "execution_count": null,
   "id": "3c8dc657",
   "metadata": {},
   "outputs": [],
   "source": [
    "def rename_pattern_ldpred2(df, df_types):\n",
    "    rename_pattern = {'ref': 'a0',\n",
    "                     'alt': 'a1',\n",
    "                     'beta_EUR': 'beta',\n",
    "                     'se_EUR': 'beta_se',\n",
    "                     'neglog10_pval_EUR': 'p'}\n",
    "    df.rename(columns = rename_pattern,inplace = True)\n",
    "    df_types.rename(columns = rename_pattern, inplace = True)\n",
    "    \n",
    "def rename_pattern_prsice(df, df_types):\n",
    "    rename_pattern = {'chr':'CHR',\n",
    "                              'pos':'BP',\n",
    "                              'ref': 'ref', #A2\n",
    "                             'alt': 'alt', #A1\n",
    "                             'beta_EUR': 'BETA',\n",
    "                             'se_EUR': 'SE',\n",
    "                             'neglog10_pval_EUR': 'P'}\n",
    "    df.rename(columns = rename_pattern,inplace = True)\n",
    "    df_types.rename(columns = rename_pattern, inplace = True)"
   ]
  },
  {
   "cell_type": "code",
   "execution_count": null,
   "id": "7f6183e9",
   "metadata": {},
   "outputs": [],
   "source": [
    "rename_pattern_prsice(df, df_types)"
   ]
  },
  {
   "cell_type": "code",
   "execution_count": null,
   "id": "0b2db834",
   "metadata": {},
   "outputs": [],
   "source": [
    "#Sample size per variant = 361,194 (http://www.nealelab.is/uk-biobank/faq)"
   ]
  },
  {
   "cell_type": "code",
   "execution_count": null,
   "id": "14814a54",
   "metadata": {},
   "outputs": [],
   "source": [
    "df['N'] = 361194\n",
    "df_types['N'] = np.dtype(np.int64)"
   ]
  },
  {
   "cell_type": "code",
   "execution_count": null,
   "id": "6a002e7d",
   "metadata": {},
   "outputs": [],
   "source": [
    "df = df[['CHR','BP','ref','alt','BETA','SE','P']]\n",
    "#df = df[['chr','pos', 'a0', 'a1', 'beta', 'beta_se','N', 'p']]"
   ]
  },
  {
   "cell_type": "code",
   "execution_count": null,
   "id": "19398c0b",
   "metadata": {},
   "outputs": [],
   "source": [
    "df"
   ]
  },
  {
   "cell_type": "code",
   "execution_count": null,
   "id": "c890a4d4",
   "metadata": {},
   "outputs": [],
   "source": [
    "#Filter out non-snps"
   ]
  },
  {
   "cell_type": "code",
   "execution_count": null,
   "id": "003175f8",
   "metadata": {},
   "outputs": [],
   "source": [
    "def filter_snps_ldpred2(df):\n",
    "    df = df[df['a0'].str.len() == 1]\n",
    "    df = df[df['a1'].str.len() == 1]\n",
    "    df = df[df['chr']!='X']\n",
    "    df.reset_index(drop=True, inplace=True)\n",
    "    \n",
    "    return df\n",
    "    \n",
    "def filter_snps_prsice(df):\n",
    "    df = df[df['ref'].str.len() == 1]\n",
    "    df = df[df['alt'].str.len() == 1]\n",
    "    df = df[df['CHR']!='X']\n",
    "    df = df[df['CHR']!='Y']\n",
    "    df.reset_index(drop=True, inplace=True)\n",
    "    \n",
    "    return df"
   ]
  },
  {
   "cell_type": "code",
   "execution_count": null,
   "id": "f4e96404",
   "metadata": {},
   "outputs": [],
   "source": [
    "df = filter_snps_prsice(df)"
   ]
  },
  {
   "cell_type": "code",
   "execution_count": null,
   "id": "65352b5e",
   "metadata": {},
   "outputs": [],
   "source": [
    "df"
   ]
  },
  {
   "cell_type": "code",
   "execution_count": null,
   "id": "d934d8cc",
   "metadata": {},
   "outputs": [],
   "source": [
    "# Remove positions that are missing a beta, beta_se or p value"
   ]
  },
  {
   "cell_type": "code",
   "execution_count": null,
   "id": "369c1bd3",
   "metadata": {},
   "outputs": [],
   "source": [
    "def filter_missing_vals_ldpred2(df):\n",
    "    df = df[df['beta'].isna()==False]\n",
    "    df.reset_index(drop=True, inplace=True)\n",
    "    \n",
    "    return df\n",
    "    \n",
    "def filter_missing_vals_prsice(df):\n",
    "    df = df[df['BETA'].isna()==False]\n",
    "    df.reset_index(drop=True, inplace=True)\n",
    "    \n",
    "    return df"
   ]
  },
  {
   "cell_type": "code",
   "execution_count": null,
   "id": "8383c7ab",
   "metadata": {},
   "outputs": [],
   "source": [
    "df = filter_missing_vals_prsice(df)"
   ]
  },
  {
   "cell_type": "code",
   "execution_count": null,
   "id": "884474be",
   "metadata": {},
   "outputs": [],
   "source": [
    "mask = df['SE'].isna()==False\n",
    "mask.value_counts()"
   ]
  },
  {
   "cell_type": "code",
   "execution_count": null,
   "id": "0d798941",
   "metadata": {},
   "outputs": [],
   "source": [
    "mask = df['P'].isna()==False\n",
    "mask.value_counts()"
   ]
  },
  {
   "cell_type": "code",
   "execution_count": null,
   "id": "d5d585ec",
   "metadata": {},
   "outputs": [],
   "source": [
    "def remove_dups_prsice(df):\n",
    "    df['unique_id'] = df['CHR']+df['BP']\n",
    "    df['unique_id_counts'] = df['unique_id'].map(df['unique_id'].value_counts())\n",
    "    df = df[df['unique_id_counts'] == 1]\n",
    "    df.reset_index(drop=True, inplace=True)\n",
    "    df.drop(columns = ['unique_id','unique_id_counts'], inplace=True)\n",
    "    return df"
   ]
  },
  {
   "cell_type": "code",
   "execution_count": null,
   "id": "8836917d",
   "metadata": {},
   "outputs": [],
   "source": [
    "df = remove_dups_prsice(df)"
   ]
  },
  {
   "cell_type": "code",
   "execution_count": null,
   "id": "0d2af4f2",
   "metadata": {},
   "outputs": [],
   "source": [
    "def handle_sci_notation(df):\n",
    "    df['BETA'] = df['BETA'].astype(float)\n",
    "    df['SE'] = df['SE'].astype(float)\n",
    "    df['P'] = df['P'].astype(float)\n",
    "    return df"
   ]
  },
  {
   "cell_type": "code",
   "execution_count": null,
   "id": "b28f385a",
   "metadata": {},
   "outputs": [],
   "source": [
    "df = handle_sci_notation(df)"
   ]
  },
  {
   "cell_type": "code",
   "execution_count": null,
   "id": "4d8ace5a",
   "metadata": {},
   "outputs": [],
   "source": [
    "def remove_p_vals(df):\n",
    "    #Remove p values greater than 1.0\n",
    "    df = df[df['P'] <=1.0]\n",
    "    df = df.reset_index(drop=True)\n",
    "    return df"
   ]
  },
  {
   "cell_type": "code",
   "execution_count": null,
   "id": "4b6043b8",
   "metadata": {},
   "outputs": [],
   "source": [
    "df = remove_p_vals(df)"
   ]
  },
  {
   "cell_type": "code",
   "execution_count": null,
   "id": "dbd28c6f",
   "metadata": {},
   "outputs": [],
   "source": [
    "#Recast types\n",
    "#for col in df.columns:\n",
    "    #df[col].astype(df_types[col].values[0])"
   ]
  },
  {
   "cell_type": "code",
   "execution_count": null,
   "id": "673f4676",
   "metadata": {},
   "outputs": [],
   "source": [
    "df.head(3)"
   ]
  },
  {
   "cell_type": "code",
   "execution_count": null,
   "id": "b1ac02f6",
   "metadata": {},
   "outputs": [],
   "source": []
  },
  {
   "cell_type": "code",
   "execution_count": null,
   "id": "a083752f",
   "metadata": {},
   "outputs": [],
   "source": [
    "def write_gwas(df, condition_name, outdir):\n",
    "    filename = 'UKB_GWAS_SumStats_{}_processed.txt'.format(condition_name)\n",
    "    outpath = os.path.join(outdir,filename)\n",
    "    df.to_csv(outpath,sep='\\t', index=False)"
   ]
  },
  {
   "cell_type": "code",
   "execution_count": null,
   "id": "61a041fb",
   "metadata": {},
   "outputs": [],
   "source": [
    "outdir = '/Users/jerenolsen/Desktop/GWAS_Summary_Stats'\n",
    "condition_name = 'GERD'\n",
    "write_gwas(df, condition_name, outdir)"
   ]
  }
 ],
 "metadata": {
  "kernelspec": {
   "display_name": "Python 3 (ipykernel)",
   "language": "python",
   "name": "python3"
  },
  "language_info": {
   "codemirror_mode": {
    "name": "ipython",
    "version": 3
   },
   "file_extension": ".py",
   "mimetype": "text/x-python",
   "name": "python",
   "nbconvert_exporter": "python",
   "pygments_lexer": "ipython3",
   "version": "3.9.13"
  }
 },
 "nbformat": 4,
 "nbformat_minor": 5
}
