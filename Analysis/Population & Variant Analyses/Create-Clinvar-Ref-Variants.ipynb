{
 "cells": [
  {
   "cell_type": "markdown",
   "id": "d7102854",
   "metadata": {},
   "source": [
    "# Create ClinVar Clinically Signficant Reference Variants to Query Harvard PGP variants and Merge with results"
   ]
  },
  {
   "cell_type": "code",
   "execution_count": null,
   "id": "6bffe253",
   "metadata": {},
   "outputs": [],
   "source": [
    "import pandas as pd"
   ]
  },
  {
   "cell_type": "code",
   "execution_count": null,
   "id": "544c9833",
   "metadata": {},
   "outputs": [],
   "source": [
    "clinvar_variants_path = '/Users/jerenolsen/Desktop/All_Tests/HVD-PGP Population Analysis/Deep Phenotyping copy/ClinVar Variants/variant_summary.txt'"
   ]
  },
  {
   "cell_type": "code",
   "execution_count": null,
   "id": "cb62523f",
   "metadata": {},
   "outputs": [],
   "source": [
    "sample = pd.read_csv(clinvar_variants_path, header=0, nrows = 2, sep = '\\t')"
   ]
  },
  {
   "cell_type": "code",
   "execution_count": null,
   "id": "dc9e0b67",
   "metadata": {},
   "outputs": [],
   "source": [
    "cols = sample.columns\n",
    "dtypes = {col:str for col in cols}"
   ]
  },
  {
   "cell_type": "code",
   "execution_count": null,
   "id": "8e409c4e",
   "metadata": {},
   "outputs": [],
   "source": [
    "df = pd.read_csv(clinvar_variants_path, names = cols, dtype = dtypes, sep = '\\t', comment = '#')"
   ]
  },
  {
   "cell_type": "code",
   "execution_count": null,
   "id": "a0e14c1b",
   "metadata": {},
   "outputs": [],
   "source": [
    "len(df)"
   ]
  },
  {
   "cell_type": "code",
   "execution_count": null,
   "id": "ae148621",
   "metadata": {},
   "outputs": [],
   "source": [
    "df.head()"
   ]
  },
  {
   "cell_type": "code",
   "execution_count": null,
   "id": "9fc06344",
   "metadata": {},
   "outputs": [],
   "source": [
    "def filter_variants(df):\n",
    "    # SNPs only\n",
    "    df = df[df['Type'] == 'single nucleotide variant']\n",
    "    df = df[df['ReferenceAlleleVCF'].str.len() == 1]\n",
    "    df = df[df['AlternateAlleleVCF'].str.len() == 1]\n",
    "\n",
    "    # Filter for P/LP variants\n",
    "    accepted_significance = ['Pathogenic','Likely pathogenic']\n",
    "    df = df[df['ClinicalSignificance'].isin(accepted_significance)]\n",
    "    \n",
    "    # Only consider positions from GRCh37 Assembly\n",
    "    df = df[df['Assembly'] == 'GRCh37']\n",
    "    \n",
    "    # Remove X,Y, MT chromosomes\n",
    "    df = df[~df['Chromosome'].isin(['X','Y','MT'])]\n",
    "    \n",
    "    df = df[df['RS# (dbSNP)'] != '-1']\n",
    "    \n",
    "    df.reset_index(drop=True, inplace=True)\n",
    "    \n",
    "    \n",
    "    return df"
   ]
  },
  {
   "cell_type": "code",
   "execution_count": null,
   "id": "d053e8d1",
   "metadata": {},
   "outputs": [],
   "source": [
    "len(df['GeneSymbol'].unique())"
   ]
  },
  {
   "cell_type": "code",
   "execution_count": null,
   "id": "0827efd5",
   "metadata": {},
   "outputs": [],
   "source": [
    "df"
   ]
  },
  {
   "cell_type": "code",
   "execution_count": null,
   "id": "c1f1932b",
   "metadata": {},
   "outputs": [],
   "source": [
    "df['OtherIDs'].value_counts()"
   ]
  },
  {
   "cell_type": "code",
   "execution_count": null,
   "id": "3ecb4883",
   "metadata": {},
   "outputs": [],
   "source": [
    "df_id = df[df['OtherIDs'] != '-']"
   ]
  },
  {
   "cell_type": "code",
   "execution_count": null,
   "id": "43e9dcd4",
   "metadata": {},
   "outputs": [],
   "source": [
    "df_id = df[df['OtherIDs'].str.contains(\"OMIM|ClinVar\")]"
   ]
  },
  {
   "cell_type": "code",
   "execution_count": null,
   "id": "3afb748a",
   "metadata": {},
   "outputs": [],
   "source": [
    "#HGMD\n",
    "df[df['OtherIDs'].str.contains('OMIM')]"
   ]
  },
  {
   "cell_type": "code",
   "execution_count": null,
   "id": "f905f26d",
   "metadata": {},
   "outputs": [],
   "source": [
    "df[df['GeneSymbol'] =='HFE'].iloc[0]"
   ]
  },
  {
   "cell_type": "markdown",
   "id": "16e04605",
   "metadata": {},
   "source": [
    "# Filtering clinvar df"
   ]
  },
  {
   "cell_type": "code",
   "execution_count": null,
   "id": "77024665",
   "metadata": {},
   "outputs": [],
   "source": [
    "df = filter_variants(df)"
   ]
  },
  {
   "cell_type": "code",
   "execution_count": null,
   "id": "e3cf881c",
   "metadata": {},
   "outputs": [],
   "source": [
    "df.to_csv('/Users/jerenolsen/Desktop/clinvar-variants-filtered.csv')"
   ]
  }
 ],
 "metadata": {
  "kernelspec": {
   "display_name": "Python 3 (ipykernel)",
   "language": "python",
   "name": "python3"
  },
  "language_info": {
   "codemirror_mode": {
    "name": "ipython",
    "version": 3
   },
   "file_extension": ".py",
   "mimetype": "text/x-python",
   "name": "python",
   "nbconvert_exporter": "python",
   "pygments_lexer": "ipython3",
   "version": "3.9.13"
  }
 },
 "nbformat": 4,
 "nbformat_minor": 5
}
