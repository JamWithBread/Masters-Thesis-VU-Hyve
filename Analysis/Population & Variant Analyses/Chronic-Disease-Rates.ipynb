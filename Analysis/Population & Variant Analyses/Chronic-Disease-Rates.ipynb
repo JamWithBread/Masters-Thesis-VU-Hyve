{
 "cells": [
  {
   "cell_type": "markdown",
   "id": "fadefb3e",
   "metadata": {},
   "source": [
    "# National Health and Nutrition Examination Survey (NHANES) Chronic Disease Prevalence VS Harvard PGP Study Population\n",
    "https://www.cdc.gov/nchs/nhanes/about_nhanes.htm"
   ]
  },
  {
   "cell_type": "code",
   "execution_count": 380,
   "id": "6da64546",
   "metadata": {},
   "outputs": [],
   "source": [
    "# TODO:\n",
    "#1. Make statement about how the data was collected, who was interviewed?\n",
    "#2. Assess at least 10 conditions\n",
    "#3. Create table comparing condition rates between the two populations"
   ]
  },
  {
   "cell_type": "markdown",
   "id": "c972cd7b",
   "metadata": {},
   "source": [
    "# #1 Info about study population form  NHANES Site\n"
   ]
  },
  {
   "cell_type": "markdown",
   "id": "aba5b620",
   "metadata": {},
   "source": [
    "### \"The National Health and Nutrition Examination Survey (NHANES) is a program of studies designed to assess the health and nutritional status of adults and children in the United States. The survey is unique in that it combines interviews and physical examinations. NHANES is a major program of the National Center for Health Statistics (NCHS). NCHS is part of the Centers for Disease Control and Prevention (CDC) and has the responsibility for producing vital and health statistics for the Nation.\""
   ]
  },
  {
   "cell_type": "markdown",
   "id": "17c108f8",
   "metadata": {},
   "source": [
    "### **Important: \"The sample for the survey is selected to represent the U.S. population of all ages. To produce reliable statistics, NHANES over-samples persons 60 and older, African Americans, and Hispanics.\""
   ]
  },
  {
   "cell_type": "markdown",
   "id": "9595edd6",
   "metadata": {},
   "source": [
    "### How the rates were collected\n",
    "### - All reported occurences of condition are in response to question: \"Ever been told you have  ________\""
   ]
  },
  {
   "cell_type": "code",
   "execution_count": 379,
   "id": "27048a1c",
   "metadata": {},
   "outputs": [],
   "source": [
    "# import sys\n",
    "# !{sys.executable} -m pip install sas7bdat"
   ]
  },
  {
   "cell_type": "code",
   "execution_count": 375,
   "id": "25b4d15d",
   "metadata": {},
   "outputs": [],
   "source": [
    "import pandas as pd\n",
    "import pyreadstat\n",
    "import sas7bdat\n",
    "import psycopg2\n",
    "import io\n",
    "import matplotlib.pyplot as plt\n",
    "from scipy.stats import chi2_contingency"
   ]
  },
  {
   "cell_type": "code",
   "execution_count": 23,
   "id": "cec98325",
   "metadata": {},
   "outputs": [],
   "source": [
    "def read_xpt(fpath):\n",
    "    data, metadata = pyreadstat.read_xport(fpath)\n",
    "    df = pd.DataFrame(data)\n",
    "    return df\n"
   ]
  },
  {
   "cell_type": "code",
   "execution_count": 22,
   "id": "43e1ba68",
   "metadata": {},
   "outputs": [],
   "source": [
    "#Diabetes"
   ]
  },
  {
   "cell_type": "code",
   "execution_count": 24,
   "id": "1d648fd9",
   "metadata": {},
   "outputs": [],
   "source": [
    "fpath = '/Users/jerenolsen/Desktop/All_Tests/NHANES/Diabetes_DIQ_J.XPT'\n",
    "df = read_xpt(fpath)"
   ]
  },
  {
   "cell_type": "code",
   "execution_count": 25,
   "id": "0ba6ab3b",
   "metadata": {},
   "outputs": [
    {
     "data": {
      "text/html": [
       "<div>\n",
       "<style scoped>\n",
       "    .dataframe tbody tr th:only-of-type {\n",
       "        vertical-align: middle;\n",
       "    }\n",
       "\n",
       "    .dataframe tbody tr th {\n",
       "        vertical-align: top;\n",
       "    }\n",
       "\n",
       "    .dataframe thead th {\n",
       "        text-align: right;\n",
       "    }\n",
       "</style>\n",
       "<table border=\"1\" class=\"dataframe\">\n",
       "  <thead>\n",
       "    <tr style=\"text-align: right;\">\n",
       "      <th></th>\n",
       "      <th>SEQN</th>\n",
       "      <th>DIQ010</th>\n",
       "      <th>DID040</th>\n",
       "      <th>DIQ160</th>\n",
       "      <th>DIQ170</th>\n",
       "      <th>DIQ172</th>\n",
       "      <th>DIQ175A</th>\n",
       "      <th>DIQ175B</th>\n",
       "      <th>DIQ175C</th>\n",
       "      <th>DIQ175D</th>\n",
       "      <th>...</th>\n",
       "      <th>DIQ300D</th>\n",
       "      <th>DID310S</th>\n",
       "      <th>DID310D</th>\n",
       "      <th>DID320</th>\n",
       "      <th>DID330</th>\n",
       "      <th>DID341</th>\n",
       "      <th>DID350</th>\n",
       "      <th>DIQ350U</th>\n",
       "      <th>DIQ360</th>\n",
       "      <th>DIQ080</th>\n",
       "    </tr>\n",
       "  </thead>\n",
       "  <tbody>\n",
       "    <tr>\n",
       "      <th>0</th>\n",
       "      <td>93703.0</td>\n",
       "      <td>2.0</td>\n",
       "      <td>NaN</td>\n",
       "      <td>NaN</td>\n",
       "      <td>NaN</td>\n",
       "      <td>NaN</td>\n",
       "      <td>NaN</td>\n",
       "      <td>NaN</td>\n",
       "      <td>NaN</td>\n",
       "      <td>NaN</td>\n",
       "      <td>...</td>\n",
       "      <td>NaN</td>\n",
       "      <td>NaN</td>\n",
       "      <td>NaN</td>\n",
       "      <td>NaN</td>\n",
       "      <td>NaN</td>\n",
       "      <td>NaN</td>\n",
       "      <td>NaN</td>\n",
       "      <td>NaN</td>\n",
       "      <td>NaN</td>\n",
       "      <td>NaN</td>\n",
       "    </tr>\n",
       "    <tr>\n",
       "      <th>1</th>\n",
       "      <td>93704.0</td>\n",
       "      <td>2.0</td>\n",
       "      <td>NaN</td>\n",
       "      <td>NaN</td>\n",
       "      <td>NaN</td>\n",
       "      <td>NaN</td>\n",
       "      <td>NaN</td>\n",
       "      <td>NaN</td>\n",
       "      <td>NaN</td>\n",
       "      <td>NaN</td>\n",
       "      <td>...</td>\n",
       "      <td>NaN</td>\n",
       "      <td>NaN</td>\n",
       "      <td>NaN</td>\n",
       "      <td>NaN</td>\n",
       "      <td>NaN</td>\n",
       "      <td>NaN</td>\n",
       "      <td>NaN</td>\n",
       "      <td>NaN</td>\n",
       "      <td>NaN</td>\n",
       "      <td>NaN</td>\n",
       "    </tr>\n",
       "    <tr>\n",
       "      <th>2</th>\n",
       "      <td>93705.0</td>\n",
       "      <td>2.0</td>\n",
       "      <td>NaN</td>\n",
       "      <td>2.0</td>\n",
       "      <td>2.0</td>\n",
       "      <td>2.0</td>\n",
       "      <td>NaN</td>\n",
       "      <td>NaN</td>\n",
       "      <td>NaN</td>\n",
       "      <td>NaN</td>\n",
       "      <td>...</td>\n",
       "      <td>NaN</td>\n",
       "      <td>NaN</td>\n",
       "      <td>NaN</td>\n",
       "      <td>NaN</td>\n",
       "      <td>NaN</td>\n",
       "      <td>NaN</td>\n",
       "      <td>NaN</td>\n",
       "      <td>NaN</td>\n",
       "      <td>NaN</td>\n",
       "      <td>NaN</td>\n",
       "    </tr>\n",
       "    <tr>\n",
       "      <th>3</th>\n",
       "      <td>93706.0</td>\n",
       "      <td>2.0</td>\n",
       "      <td>NaN</td>\n",
       "      <td>2.0</td>\n",
       "      <td>2.0</td>\n",
       "      <td>2.0</td>\n",
       "      <td>NaN</td>\n",
       "      <td>NaN</td>\n",
       "      <td>NaN</td>\n",
       "      <td>NaN</td>\n",
       "      <td>...</td>\n",
       "      <td>NaN</td>\n",
       "      <td>NaN</td>\n",
       "      <td>NaN</td>\n",
       "      <td>NaN</td>\n",
       "      <td>NaN</td>\n",
       "      <td>NaN</td>\n",
       "      <td>NaN</td>\n",
       "      <td>NaN</td>\n",
       "      <td>NaN</td>\n",
       "      <td>NaN</td>\n",
       "    </tr>\n",
       "    <tr>\n",
       "      <th>4</th>\n",
       "      <td>93707.0</td>\n",
       "      <td>2.0</td>\n",
       "      <td>NaN</td>\n",
       "      <td>2.0</td>\n",
       "      <td>2.0</td>\n",
       "      <td>2.0</td>\n",
       "      <td>NaN</td>\n",
       "      <td>NaN</td>\n",
       "      <td>NaN</td>\n",
       "      <td>NaN</td>\n",
       "      <td>...</td>\n",
       "      <td>NaN</td>\n",
       "      <td>NaN</td>\n",
       "      <td>NaN</td>\n",
       "      <td>NaN</td>\n",
       "      <td>NaN</td>\n",
       "      <td>NaN</td>\n",
       "      <td>NaN</td>\n",
       "      <td>NaN</td>\n",
       "      <td>NaN</td>\n",
       "      <td>NaN</td>\n",
       "    </tr>\n",
       "    <tr>\n",
       "      <th>...</th>\n",
       "      <td>...</td>\n",
       "      <td>...</td>\n",
       "      <td>...</td>\n",
       "      <td>...</td>\n",
       "      <td>...</td>\n",
       "      <td>...</td>\n",
       "      <td>...</td>\n",
       "      <td>...</td>\n",
       "      <td>...</td>\n",
       "      <td>...</td>\n",
       "      <td>...</td>\n",
       "      <td>...</td>\n",
       "      <td>...</td>\n",
       "      <td>...</td>\n",
       "      <td>...</td>\n",
       "      <td>...</td>\n",
       "      <td>...</td>\n",
       "      <td>...</td>\n",
       "      <td>...</td>\n",
       "      <td>...</td>\n",
       "      <td>...</td>\n",
       "    </tr>\n",
       "    <tr>\n",
       "      <th>8892</th>\n",
       "      <td>102952.0</td>\n",
       "      <td>3.0</td>\n",
       "      <td>NaN</td>\n",
       "      <td>NaN</td>\n",
       "      <td>2.0</td>\n",
       "      <td>2.0</td>\n",
       "      <td>NaN</td>\n",
       "      <td>NaN</td>\n",
       "      <td>NaN</td>\n",
       "      <td>NaN</td>\n",
       "      <td>...</td>\n",
       "      <td>NaN</td>\n",
       "      <td>NaN</td>\n",
       "      <td>NaN</td>\n",
       "      <td>NaN</td>\n",
       "      <td>NaN</td>\n",
       "      <td>NaN</td>\n",
       "      <td>NaN</td>\n",
       "      <td>NaN</td>\n",
       "      <td>NaN</td>\n",
       "      <td>NaN</td>\n",
       "    </tr>\n",
       "    <tr>\n",
       "      <th>8893</th>\n",
       "      <td>102953.0</td>\n",
       "      <td>2.0</td>\n",
       "      <td>NaN</td>\n",
       "      <td>1.0</td>\n",
       "      <td>2.0</td>\n",
       "      <td>1.0</td>\n",
       "      <td>NaN</td>\n",
       "      <td>11.0</td>\n",
       "      <td>NaN</td>\n",
       "      <td>13.0</td>\n",
       "      <td>...</td>\n",
       "      <td>NaN</td>\n",
       "      <td>NaN</td>\n",
       "      <td>NaN</td>\n",
       "      <td>NaN</td>\n",
       "      <td>NaN</td>\n",
       "      <td>NaN</td>\n",
       "      <td>NaN</td>\n",
       "      <td>NaN</td>\n",
       "      <td>NaN</td>\n",
       "      <td>NaN</td>\n",
       "    </tr>\n",
       "    <tr>\n",
       "      <th>8894</th>\n",
       "      <td>102954.0</td>\n",
       "      <td>2.0</td>\n",
       "      <td>NaN</td>\n",
       "      <td>2.0</td>\n",
       "      <td>2.0</td>\n",
       "      <td>2.0</td>\n",
       "      <td>NaN</td>\n",
       "      <td>NaN</td>\n",
       "      <td>NaN</td>\n",
       "      <td>NaN</td>\n",
       "      <td>...</td>\n",
       "      <td>NaN</td>\n",
       "      <td>NaN</td>\n",
       "      <td>NaN</td>\n",
       "      <td>NaN</td>\n",
       "      <td>NaN</td>\n",
       "      <td>NaN</td>\n",
       "      <td>NaN</td>\n",
       "      <td>NaN</td>\n",
       "      <td>NaN</td>\n",
       "      <td>NaN</td>\n",
       "    </tr>\n",
       "    <tr>\n",
       "      <th>8895</th>\n",
       "      <td>102955.0</td>\n",
       "      <td>2.0</td>\n",
       "      <td>NaN</td>\n",
       "      <td>2.0</td>\n",
       "      <td>2.0</td>\n",
       "      <td>1.0</td>\n",
       "      <td>NaN</td>\n",
       "      <td>11.0</td>\n",
       "      <td>NaN</td>\n",
       "      <td>NaN</td>\n",
       "      <td>...</td>\n",
       "      <td>NaN</td>\n",
       "      <td>NaN</td>\n",
       "      <td>NaN</td>\n",
       "      <td>NaN</td>\n",
       "      <td>NaN</td>\n",
       "      <td>NaN</td>\n",
       "      <td>NaN</td>\n",
       "      <td>NaN</td>\n",
       "      <td>NaN</td>\n",
       "      <td>NaN</td>\n",
       "    </tr>\n",
       "    <tr>\n",
       "      <th>8896</th>\n",
       "      <td>102956.0</td>\n",
       "      <td>2.0</td>\n",
       "      <td>NaN</td>\n",
       "      <td>2.0</td>\n",
       "      <td>2.0</td>\n",
       "      <td>2.0</td>\n",
       "      <td>NaN</td>\n",
       "      <td>NaN</td>\n",
       "      <td>NaN</td>\n",
       "      <td>NaN</td>\n",
       "      <td>...</td>\n",
       "      <td>NaN</td>\n",
       "      <td>NaN</td>\n",
       "      <td>NaN</td>\n",
       "      <td>NaN</td>\n",
       "      <td>NaN</td>\n",
       "      <td>NaN</td>\n",
       "      <td>NaN</td>\n",
       "      <td>NaN</td>\n",
       "      <td>NaN</td>\n",
       "      <td>NaN</td>\n",
       "    </tr>\n",
       "  </tbody>\n",
       "</table>\n",
       "<p>8897 rows × 54 columns</p>\n",
       "</div>"
      ],
      "text/plain": [
       "          SEQN  DIQ010  DID040  DIQ160  DIQ170  DIQ172  DIQ175A  DIQ175B  \\\n",
       "0      93703.0     2.0     NaN     NaN     NaN     NaN      NaN      NaN   \n",
       "1      93704.0     2.0     NaN     NaN     NaN     NaN      NaN      NaN   \n",
       "2      93705.0     2.0     NaN     2.0     2.0     2.0      NaN      NaN   \n",
       "3      93706.0     2.0     NaN     2.0     2.0     2.0      NaN      NaN   \n",
       "4      93707.0     2.0     NaN     2.0     2.0     2.0      NaN      NaN   \n",
       "...        ...     ...     ...     ...     ...     ...      ...      ...   \n",
       "8892  102952.0     3.0     NaN     NaN     2.0     2.0      NaN      NaN   \n",
       "8893  102953.0     2.0     NaN     1.0     2.0     1.0      NaN     11.0   \n",
       "8894  102954.0     2.0     NaN     2.0     2.0     2.0      NaN      NaN   \n",
       "8895  102955.0     2.0     NaN     2.0     2.0     1.0      NaN     11.0   \n",
       "8896  102956.0     2.0     NaN     2.0     2.0     2.0      NaN      NaN   \n",
       "\n",
       "      DIQ175C  DIQ175D  ...  DIQ300D  DID310S  DID310D  DID320  DID330  \\\n",
       "0         NaN      NaN  ...      NaN      NaN      NaN     NaN     NaN   \n",
       "1         NaN      NaN  ...      NaN      NaN      NaN     NaN     NaN   \n",
       "2         NaN      NaN  ...      NaN      NaN      NaN     NaN     NaN   \n",
       "3         NaN      NaN  ...      NaN      NaN      NaN     NaN     NaN   \n",
       "4         NaN      NaN  ...      NaN      NaN      NaN     NaN     NaN   \n",
       "...       ...      ...  ...      ...      ...      ...     ...     ...   \n",
       "8892      NaN      NaN  ...      NaN      NaN      NaN     NaN     NaN   \n",
       "8893      NaN     13.0  ...      NaN      NaN      NaN     NaN     NaN   \n",
       "8894      NaN      NaN  ...      NaN      NaN      NaN     NaN     NaN   \n",
       "8895      NaN      NaN  ...      NaN      NaN      NaN     NaN     NaN   \n",
       "8896      NaN      NaN  ...      NaN      NaN      NaN     NaN     NaN   \n",
       "\n",
       "      DID341  DID350  DIQ350U  DIQ360  DIQ080  \n",
       "0        NaN     NaN      NaN     NaN     NaN  \n",
       "1        NaN     NaN      NaN     NaN     NaN  \n",
       "2        NaN     NaN      NaN     NaN     NaN  \n",
       "3        NaN     NaN      NaN     NaN     NaN  \n",
       "4        NaN     NaN      NaN     NaN     NaN  \n",
       "...      ...     ...      ...     ...     ...  \n",
       "8892     NaN     NaN      NaN     NaN     NaN  \n",
       "8893     NaN     NaN      NaN     NaN     NaN  \n",
       "8894     NaN     NaN      NaN     NaN     NaN  \n",
       "8895     NaN     NaN      NaN     NaN     NaN  \n",
       "8896     NaN     NaN      NaN     NaN     NaN  \n",
       "\n",
       "[8897 rows x 54 columns]"
      ]
     },
     "execution_count": 25,
     "metadata": {},
     "output_type": "execute_result"
    }
   ],
   "source": [
    "df"
   ]
  },
  {
   "cell_type": "markdown",
   "id": "8bc3582f",
   "metadata": {},
   "source": [
    "### Note: the National Health and Nutrition Examination survey data files (in XPT format) are too cumbersome to use and relate to the code tables listed on the site (Would require webscraping or a lot of copy paste) for such a short analysis. Instead will just copy paste the disease rate tables on codes pages (see source links below)"
   ]
  },
  {
   "cell_type": "code",
   "execution_count": 317,
   "id": "3e4d86e1",
   "metadata": {},
   "outputs": [],
   "source": [
    "def run_pg_query(search_term):\n",
    "    \n",
    "    def get_password(txt_path):\n",
    "        with open(txt_path,'r') as f:\n",
    "            for line in f:\n",
    "                password=line.strip('\\n')\n",
    "        return password\n",
    "                \n",
    "    password=get_password('/Users/jerenolsen/Desktop/password.txt')\n",
    "                    \n",
    "    db_params = {\n",
    "    \"host\": \"localhost\",\n",
    "    \"port\": \"5432\",\n",
    "    \"database\": \"etl-testing\",\n",
    "    \"user\": \"postgres\",\n",
    "    \"password\": \"{password}\".format(password=password)\n",
    "    }\n",
    "    \n",
    "    query = \"\"\"\n",
    "            SELECT DISTINCT person_id, min(val)\n",
    "            FROM (\n",
    "                SELECT person_id, condition_source_value AS val\n",
    "                FROM cdm.condition_occurrence\n",
    "                UNION ALL\n",
    "                SELECT person_id, observation_source_value AS val\n",
    "                FROM cdm.observation\n",
    "            ) AS combined_table\n",
    "            WHERE val ILIKE '%{search_term}%'\n",
    "            GROUP BY person_id;\n",
    "            \"\"\".format(search_term=search_term)\n",
    "    \n",
    "    try:\n",
    "\n",
    "        connection = psycopg2.connect(**db_params)\n",
    "        cursor = connection.cursor()\n",
    "\n",
    "        cursor.execute(query)\n",
    "        data = cursor.fetchall()\n",
    "        column_names = [desc[0] for desc in cursor.description]\n",
    "\n",
    "        df = pd.DataFrame(data, columns=column_names)\n",
    "\n",
    "        cursor.close()\n",
    "        connection.close()\n",
    "        \n",
    "        print(f\"Query results for {search_term}:\\n> Conditons:\\n {df['min'].value_counts()}\\n> Total hits: {len(df)}\\n\")\n",
    "\n",
    "        return df\n",
    "\n",
    "    except (Exception, psycopg2.Error) as error:\n",
    "        print(\"Error while connecting to PostgreSQL or executing query:\", error)\n",
    "        return None\n",
    "    \n",
    "def process_NHANES(data_str):\n",
    "    data_stream = io.StringIO(data_str)\n",
    "    df = pd.read_csv(data_stream, sep='\\t')\n",
    "    df.drop(columns=['Skip to Item'], inplace=True)\n",
    "    print(df,'\\n')\n",
    "    \n",
    "    rate = df.iloc[0]['Count']/df.iloc[1]['Cumulative']\n",
    "\n",
    "    return rate\n",
    "    \n",
    "\n",
    "def init_disease_rate():\n",
    "    disease_rates = pd.DataFrame()\n",
    "    disease_rates['Condition'] = None\n",
    "    disease_rates['NHANES_rate'] = None\n",
    "    disease_rates['HVD_PGP_rate'] = None\n",
    "    return disease_rates\n",
    "\n",
    "\n",
    "def update_rates(disease_rates, name, n_rate, h_rate):\n",
    "    df = pd.DataFrame()\n",
    "    df['Condition'] = [name]\n",
    "    df['NHANES_rate'] = [n_rate]\n",
    "    df['HVD_PGP_rate'] = [h_rate]\n",
    "    \n",
    "    print(f\"Updating rates for {name}:\\n{df}\\n\")\n",
    "    \n",
    "    disease_rates = pd.concat([disease_rates,df])\n",
    "    return disease_rates"
   ]
  },
  {
   "cell_type": "markdown",
   "id": "93195b1d",
   "metadata": {},
   "source": [
    "<!-- SELECT DISTINCT person_id\n",
    "FROM (\n",
    "\tSELECT person_id, condition_source_value AS val\n",
    "\tFROM cdm.condition_occurrence\n",
    "\tUNION ALL\n",
    "\tSELECT person_id, observation_source_value AS val\n",
    "\tFROM cdm.observation\n",
    ") AS combined_table\n",
    "WHERE val ILIKE '%diab%'; -->"
   ]
  },
  {
   "cell_type": "code",
   "execution_count": 319,
   "id": "df4ff8e8",
   "metadata": {},
   "outputs": [],
   "source": [
    "#Global harvard pgp population size\n",
    "N_HVD_PGP = 900"
   ]
  },
  {
   "cell_type": "code",
   "execution_count": null,
   "id": "f028561e",
   "metadata": {},
   "outputs": [],
   "source": [
    "disease_rates = init_disease_rate()"
   ]
  },
  {
   "cell_type": "markdown",
   "id": "9754f218",
   "metadata": {},
   "source": [
    "# Hypertension"
   ]
  },
  {
   "cell_type": "markdown",
   "id": "bc687cd4",
   "metadata": {},
   "source": [
    "Source: https://wwwn.cdc.gov/Nchs/Nhanes/2017-2018/BPQ_J.htm#BPQ020"
   ]
  },
  {
   "cell_type": "code",
   "execution_count": 320,
   "id": "a08e440b",
   "metadata": {},
   "outputs": [],
   "source": [
    "condition_name = 'Hypertension'"
   ]
  },
  {
   "cell_type": "code",
   "execution_count": 321,
   "id": "c808b752",
   "metadata": {},
   "outputs": [],
   "source": [
    "NHANES = \"\"\"Code or Value\tValue Description\tCount\tCumulative\tSkip to Item\n",
    "1\tYes\t2137\t2137\t\n",
    "2\tNo\t4014\t6151\"\"\""
   ]
  },
  {
   "cell_type": "code",
   "execution_count": 322,
   "id": "8ab54cbc",
   "metadata": {},
   "outputs": [
    {
     "name": "stdout",
     "output_type": "stream",
     "text": [
      "   Code or Value Value Description  Count  Cumulative\n",
      "0              1               Yes   2137        2137\n",
      "1              2                No   4014        6151 \n",
      "\n",
      "Query results for Hypertension:\n",
      "> Conditons:\n",
      " Hypertension                                          117\n",
      "Benign hypertension                                     4\n",
      "Essential Hypertension                                  3\n",
      "Pulmonary Hypertension                                  2\n",
      "Prehypertension                                         2\n",
      "Chest Pain, Acute hypertension                          1\n",
      "HTN (hypertension)                                      1\n",
      "Essential Stage I hypertension, Despite Medication      1\n",
      "Name: min, dtype: int64\n",
      "> Total hits: 131\n",
      "\n",
      "Updating rates for Hypertension:\n",
      "      Condition  NHANES_rate  HVD_PGP_rate\n",
      "0  Hypertension     0.347423      0.145556\n",
      "\n"
     ]
    }
   ],
   "source": [
    "n_rate = process_NHANES(NHANES)\n",
    "h_rate = len(run_pg_query(condition_name))/N_HVD_PGP\n",
    "disease_rates = update_rates(disease_rates, name = condition_name, n_rate = n_rate, h_rate = h_rate)"
   ]
  },
  {
   "cell_type": "markdown",
   "id": "069255da",
   "metadata": {},
   "source": [
    "# DIABETES"
   ]
  },
  {
   "cell_type": "markdown",
   "id": "3921ffb9",
   "metadata": {},
   "source": [
    "Source: https://wwwn.cdc.gov/Nchs/Nhanes/2017-2018/DIQ_J.htm#DIQ010"
   ]
  },
  {
   "cell_type": "code",
   "execution_count": 323,
   "id": "df659846",
   "metadata": {},
   "outputs": [],
   "source": [
    "condition_name = 'Diabetes'"
   ]
  },
  {
   "cell_type": "code",
   "execution_count": 275,
   "id": "6ca9c8ff",
   "metadata": {},
   "outputs": [],
   "source": [
    "NHANES = \"\"\"Code or Value\tValue Description\tCount\tCumulative\tSkip to Item\n",
    "1\tYes\t893\t893\t\n",
    "2\tNo\t7816\t8709\tDIQ159\"\"\""
   ]
  },
  {
   "cell_type": "code",
   "execution_count": 324,
   "id": "451df057",
   "metadata": {},
   "outputs": [
    {
     "name": "stdout",
     "output_type": "stream",
     "text": [
      "   Code or Value Value Description  Count  Cumulative\n",
      "0              1               Yes   2137        2137\n",
      "1              2                No   4014        6151 \n",
      "\n",
      "Query results for Diabetes:\n",
      "> Conditons:\n",
      " Diabetes mellitus            36\n",
      "Prediabetes                   2\n",
      "DIABETES MELLITUS             2\n",
      "Diabetes mellitus, type 2     1\n",
      "Type 2 Diabetes               1\n",
      "diabetes type 2               1\n",
      "Diabetes Insipidus            1\n",
      "Name: min, dtype: int64\n",
      "> Total hits: 44\n",
      "\n",
      "Updating rates for Diabetes:\n",
      "  Condition  NHANES_rate  HVD_PGP_rate\n",
      "0  Diabetes     0.347423      0.048889\n",
      "\n"
     ]
    }
   ],
   "source": [
    "n_rate = process_NHANES(NHANES)\n",
    "h_rate = len(run_pg_query(condition_name))/N_HVD_PGP\n",
    "disease_rates = update_rates(disease_rates, name = condition_name, n_rate = n_rate, h_rate = h_rate)"
   ]
  },
  {
   "cell_type": "markdown",
   "id": "fe3e12c9",
   "metadata": {},
   "source": [
    "# Hepatitis"
   ]
  },
  {
   "cell_type": "markdown",
   "id": "63a141b0",
   "metadata": {},
   "source": [
    "source: https://wwwn.cdc.gov/Nchs/Nhanes/2017-2018/HEQ_J.htm"
   ]
  },
  {
   "cell_type": "code",
   "execution_count": 325,
   "id": "d4c350e7",
   "metadata": {},
   "outputs": [],
   "source": [
    "condition_name = 'Hepatitis B'"
   ]
  },
  {
   "cell_type": "code",
   "execution_count": 326,
   "id": "ab8138d8",
   "metadata": {},
   "outputs": [],
   "source": [
    "NHANES = \"\"\"Code or Value\tValue Description\tCount\tCumulative\tSkip to Item\n",
    "1\tYes\t57\t57\t\n",
    "2\tNo\t7798\t7855\tHEQ030\"\"\""
   ]
  },
  {
   "cell_type": "code",
   "execution_count": 327,
   "id": "a42c9544",
   "metadata": {},
   "outputs": [
    {
     "name": "stdout",
     "output_type": "stream",
     "text": [
      "   Code or Value Value Description  Count  Cumulative\n",
      "0              1               Yes     57          57\n",
      "1              2                No   7798        7855 \n",
      "\n",
      "Query results for Hepatitis B:\n",
      "> Conditons:\n",
      " Hepatitis B    2\n",
      "Name: min, dtype: int64\n",
      "> Total hits: 2\n",
      "\n",
      "Updating rates for Hepatitis B:\n",
      "     Condition  NHANES_rate  HVD_PGP_rate\n",
      "0  Hepatitis B     0.007257      0.002222\n",
      "\n"
     ]
    }
   ],
   "source": [
    "n_rate = process_NHANES(NHANES)\n",
    "h_rate = len(run_pg_query(condition_name))/N_HVD_PGP\n",
    "disease_rates = update_rates(disease_rates, name = condition_name, n_rate = n_rate, h_rate = h_rate)"
   ]
  },
  {
   "cell_type": "code",
   "execution_count": 328,
   "id": "55c74cce",
   "metadata": {},
   "outputs": [],
   "source": [
    "condition_name = 'Hepatitis C'"
   ]
  },
  {
   "cell_type": "code",
   "execution_count": 329,
   "id": "9db5e1b6",
   "metadata": {},
   "outputs": [],
   "source": [
    "NHANES = \"\"\"\n",
    "Code or Value\tValue Description\tCount\tCumulative\tSkip to Item\n",
    "1\tYes\t99\t99\t\n",
    "2\tNo\t7749\t7848\tEnd of Section\"\"\""
   ]
  },
  {
   "cell_type": "code",
   "execution_count": 330,
   "id": "4e9acd60",
   "metadata": {},
   "outputs": [
    {
     "name": "stdout",
     "output_type": "stream",
     "text": [
      "   Code or Value Value Description  Count  Cumulative\n",
      "0              1               Yes     99          99\n",
      "1              2                No   7749        7848 \n",
      "\n",
      "Query results for Hepatitis C:\n",
      "> Conditons:\n",
      " Chronic hepatitis C    1\n",
      "Hepatitis C            1\n",
      "Name: min, dtype: int64\n",
      "> Total hits: 2\n",
      "\n",
      "Updating rates for Hepatitis C:\n",
      "     Condition  NHANES_rate  HVD_PGP_rate\n",
      "0  Hepatitis C     0.012615      0.002222\n",
      "\n"
     ]
    }
   ],
   "source": [
    "n_rate = process_NHANES(NHANES)\n",
    "h_rate = len(run_pg_query(condition_name))/N_HVD_PGP\n",
    "disease_rates = update_rates(disease_rates, name = condition_name, n_rate = n_rate, h_rate = h_rate)"
   ]
  },
  {
   "cell_type": "markdown",
   "id": "9ecaf991",
   "metadata": {},
   "source": [
    "# Osteoporosis"
   ]
  },
  {
   "cell_type": "markdown",
   "id": "39cd6c54",
   "metadata": {},
   "source": [
    "Source: https://wwwn.cdc.gov/Nchs/Nhanes/2017-2018/OSQ_J.htm#OSQ060"
   ]
  },
  {
   "cell_type": "code",
   "execution_count": 335,
   "id": "f8fa9e94",
   "metadata": {},
   "outputs": [],
   "source": [
    "condition_name = 'Osteoporosis'"
   ]
  },
  {
   "cell_type": "code",
   "execution_count": 336,
   "id": "7800adf7",
   "metadata": {},
   "outputs": [],
   "source": [
    "NHANES = \"\"\"Code or Value\tValue Description\tCount\tCumulative\tSkip to Item\n",
    "1\tYes\t396\t396\t\n",
    "2\tNo\t2657\t3053\tOSQ130\"\"\""
   ]
  },
  {
   "cell_type": "code",
   "execution_count": 337,
   "id": "b1df2970",
   "metadata": {},
   "outputs": [
    {
     "name": "stdout",
     "output_type": "stream",
     "text": [
      "   Code or Value Value Description  Count  Cumulative\n",
      "0              1               Yes    396         396\n",
      "1              2                No   2657        3053 \n",
      "\n",
      "Query results for Osteoporosis:\n",
      "> Conditons:\n",
      " Osteoporosis               22\n",
      "Idiopathic osteoporosis     1\n",
      "Name: min, dtype: int64\n",
      "> Total hits: 23\n",
      "\n",
      "Updating rates for Osteoporosis:\n",
      "      Condition  NHANES_rate  HVD_PGP_rate\n",
      "0  Osteoporosis     0.129708      0.025556\n",
      "\n"
     ]
    }
   ],
   "source": [
    "n_rate = process_NHANES(NHANES)\n",
    "h_rate = len(run_pg_query(condition_name))/N_HVD_PGP\n",
    "disease_rates = update_rates(disease_rates, name = condition_name, n_rate = n_rate, h_rate = h_rate)"
   ]
  },
  {
   "cell_type": "markdown",
   "id": "6fa258e7",
   "metadata": {},
   "source": [
    "# Asthma"
   ]
  },
  {
   "cell_type": "markdown",
   "id": "988180ef",
   "metadata": {},
   "source": [
    "SOURCE FOR ALL REMAINING QUERIES: https://wwwn.cdc.gov/Nchs/Nhanes/2017-2018/MCQ_J.htm#MCQ010"
   ]
  },
  {
   "cell_type": "code",
   "execution_count": 338,
   "id": "b76f7c6f",
   "metadata": {},
   "outputs": [],
   "source": [
    "condition_name = 'Asthma'"
   ]
  },
  {
   "cell_type": "code",
   "execution_count": 339,
   "id": "6c982dde",
   "metadata": {},
   "outputs": [],
   "source": [
    "NHANES = \"\"\"Code or Value\tValue Description\tCount\tCumulative\tSkip to Item\n",
    "1\tYes\t1325\t1325\t\n",
    "2\tNo\t7563\t8888\tMCQ053\"\"\""
   ]
  },
  {
   "cell_type": "code",
   "execution_count": 340,
   "id": "0f61a179",
   "metadata": {},
   "outputs": [
    {
     "name": "stdout",
     "output_type": "stream",
     "text": [
      "   Code or Value Value Description  Count  Cumulative\n",
      "0              1               Yes   1325        1325\n",
      "1              2                No   7563        8888 \n",
      "\n",
      "Query results for Asthma:\n",
      "> Conditons:\n",
      " Asthma          114\n",
      "ASTHMA           41\n",
      "Mixed asthma      1\n",
      "Acute asthma      1\n",
      "Name: min, dtype: int64\n",
      "> Total hits: 157\n",
      "\n",
      "Updating rates for Asthma:\n",
      "  Condition  NHANES_rate  HVD_PGP_rate\n",
      "0    Asthma     0.149077      0.174444\n",
      "\n"
     ]
    }
   ],
   "source": [
    "n_rate = process_NHANES(NHANES)\n",
    "h_rate = len(run_pg_query(condition_name))/N_HVD_PGP\n",
    "disease_rates = update_rates(disease_rates, name = condition_name, n_rate = n_rate, h_rate = h_rate)"
   ]
  },
  {
   "cell_type": "markdown",
   "id": "15d938d9",
   "metadata": {},
   "source": [
    "# Arthritis"
   ]
  },
  {
   "cell_type": "code",
   "execution_count": 331,
   "id": "21aa09e5",
   "metadata": {},
   "outputs": [],
   "source": [
    "condition_name = 'Arthritis'"
   ]
  },
  {
   "cell_type": "code",
   "execution_count": 332,
   "id": "549195aa",
   "metadata": {},
   "outputs": [],
   "source": [
    "NHANES = \"\"\"Code or Value\tValue Description\tCount\tCumulative\tSkip to Item\n",
    "1\tYes\t1695\t1695\t\n",
    "2\tNo\t3857\t5552\t\"\"\""
   ]
  },
  {
   "cell_type": "code",
   "execution_count": 333,
   "id": "31cf4868",
   "metadata": {},
   "outputs": [
    {
     "name": "stdout",
     "output_type": "stream",
     "text": [
      "   Code or Value Value Description  Count  Cumulative\n",
      "0              1               Yes   1695        1695\n",
      "1              2                No   3857        5552 \n",
      "\n",
      "Query results for Arthritis:\n",
      "> Conditons:\n",
      " Osteoarthritis                                  85\n",
      "Rheumatoid arthritis                            13\n",
      "Arthritis                                        7\n",
      "Rheumatoid Arthritis                             1\n",
      "Generalized osteoarthritis of multiple sites     1\n",
      "Advanced patellar osteoarthritis                 1\n",
      "Juvenile Rheumatoid Arthritis (JRA)              1\n",
      "Osteoarthritis of left shoulder                  1\n",
      "Name: min, dtype: int64\n",
      "> Total hits: 110\n",
      "\n",
      "Updating rates for Arthritis:\n",
      "   Condition  NHANES_rate  HVD_PGP_rate\n",
      "0  Arthritis     0.305295      0.122222\n",
      "\n"
     ]
    }
   ],
   "source": [
    "n_rate = process_NHANES(NHANES)\n",
    "h_rate = len(run_pg_query(condition_name))/N_HVD_PGP\n",
    "disease_rates = update_rates(disease_rates, name = condition_name, n_rate = n_rate, h_rate = h_rate)"
   ]
  },
  {
   "cell_type": "code",
   "execution_count": 341,
   "id": "737a11ca",
   "metadata": {},
   "outputs": [
    {
     "data": {
      "text/html": [
       "<div>\n",
       "<style scoped>\n",
       "    .dataframe tbody tr th:only-of-type {\n",
       "        vertical-align: middle;\n",
       "    }\n",
       "\n",
       "    .dataframe tbody tr th {\n",
       "        vertical-align: top;\n",
       "    }\n",
       "\n",
       "    .dataframe thead th {\n",
       "        text-align: right;\n",
       "    }\n",
       "</style>\n",
       "<table border=\"1\" class=\"dataframe\">\n",
       "  <thead>\n",
       "    <tr style=\"text-align: right;\">\n",
       "      <th></th>\n",
       "      <th>Condition</th>\n",
       "      <th>NHANES_rate</th>\n",
       "      <th>HVD_PGP_rate</th>\n",
       "    </tr>\n",
       "  </thead>\n",
       "  <tbody>\n",
       "    <tr>\n",
       "      <th>0</th>\n",
       "      <td>Hypertension</td>\n",
       "      <td>0.347423</td>\n",
       "      <td>0.145556</td>\n",
       "    </tr>\n",
       "    <tr>\n",
       "      <th>0</th>\n",
       "      <td>Diabetes</td>\n",
       "      <td>0.347423</td>\n",
       "      <td>0.048889</td>\n",
       "    </tr>\n",
       "    <tr>\n",
       "      <th>0</th>\n",
       "      <td>Hepatitis B</td>\n",
       "      <td>0.007257</td>\n",
       "      <td>0.002222</td>\n",
       "    </tr>\n",
       "    <tr>\n",
       "      <th>0</th>\n",
       "      <td>Hepatitis C</td>\n",
       "      <td>0.012615</td>\n",
       "      <td>0.002222</td>\n",
       "    </tr>\n",
       "    <tr>\n",
       "      <th>0</th>\n",
       "      <td>Arthritis</td>\n",
       "      <td>0.305295</td>\n",
       "      <td>0.122222</td>\n",
       "    </tr>\n",
       "    <tr>\n",
       "      <th>0</th>\n",
       "      <td>Osteoporosis</td>\n",
       "      <td>0.129708</td>\n",
       "      <td>0.025556</td>\n",
       "    </tr>\n",
       "    <tr>\n",
       "      <th>0</th>\n",
       "      <td>Asthma</td>\n",
       "      <td>0.149077</td>\n",
       "      <td>0.174444</td>\n",
       "    </tr>\n",
       "  </tbody>\n",
       "</table>\n",
       "</div>"
      ],
      "text/plain": [
       "      Condition  NHANES_rate  HVD_PGP_rate\n",
       "0  Hypertension     0.347423      0.145556\n",
       "0      Diabetes     0.347423      0.048889\n",
       "0   Hepatitis B     0.007257      0.002222\n",
       "0   Hepatitis C     0.012615      0.002222\n",
       "0     Arthritis     0.305295      0.122222\n",
       "0  Osteoporosis     0.129708      0.025556\n",
       "0        Asthma     0.149077      0.174444"
      ]
     },
     "execution_count": 341,
     "metadata": {},
     "output_type": "execute_result"
    }
   ],
   "source": [
    "disease_rates"
   ]
  },
  {
   "cell_type": "markdown",
   "id": "4df8b1f6",
   "metadata": {},
   "source": [
    "# Gout"
   ]
  },
  {
   "cell_type": "code",
   "execution_count": 342,
   "id": "efc5bd27",
   "metadata": {},
   "outputs": [],
   "source": [
    "condition_name = 'Gout'"
   ]
  },
  {
   "cell_type": "code",
   "execution_count": 343,
   "id": "99885c88",
   "metadata": {},
   "outputs": [],
   "source": [
    "NHANES = \"\"\"\n",
    "Code or Value\tValue Description\tCount\tCumulative\tSkip to Item\n",
    "1\tYes\t338\t338\t\n",
    "2\tNo\t5222\t5560\t\"\"\""
   ]
  },
  {
   "cell_type": "code",
   "execution_count": 344,
   "id": "07b6f963",
   "metadata": {},
   "outputs": [
    {
     "name": "stdout",
     "output_type": "stream",
     "text": [
      "   Code or Value Value Description  Count  Cumulative\n",
      "0              1               Yes    338         338\n",
      "1              2                No   5222        5560 \n",
      "\n",
      "Query results for Gout:\n",
      "> Conditons:\n",
      " Gout                       23\n",
      "Pseudogout                  1\n",
      "Gout (2001, 2 episodes)     1\n",
      "Name: min, dtype: int64\n",
      "> Total hits: 25\n",
      "\n",
      "Updating rates for Gout:\n",
      "  Condition  NHANES_rate  HVD_PGP_rate\n",
      "0      Gout     0.060791      0.027778\n",
      "\n"
     ]
    }
   ],
   "source": [
    "n_rate = process_NHANES(NHANES)\n",
    "h_rate = len(run_pg_query(condition_name))/N_HVD_PGP\n",
    "disease_rates = update_rates(disease_rates, name = condition_name, n_rate = n_rate, h_rate = h_rate)"
   ]
  },
  {
   "cell_type": "markdown",
   "id": "a9f4de9a",
   "metadata": {},
   "source": [
    "# Coronary Heart Disease"
   ]
  },
  {
   "cell_type": "code",
   "execution_count": 351,
   "id": "b60a35cd",
   "metadata": {},
   "outputs": [],
   "source": [
    "condition_name = 'coronary'"
   ]
  },
  {
   "cell_type": "code",
   "execution_count": null,
   "id": "b278f69f",
   "metadata": {},
   "outputs": [],
   "source": [
    "NHANES = \"\"\"Code or Value\tValue Description\tCount\tCumulative\tSkip to Item\n",
    "1\tYes\t265\t265\t\n",
    "2\tNo\t5288\t5553\t\"\"\""
   ]
  },
  {
   "cell_type": "code",
   "execution_count": 353,
   "id": "c9a97bf5",
   "metadata": {},
   "outputs": [
    {
     "name": "stdout",
     "output_type": "stream",
     "text": [
      "   Code or Value Value Description  Count  Cumulative\n",
      "0              1               Yes    338         338\n",
      "1              2                No   5222        5560 \n",
      "\n",
      "Query results for coronary:\n",
      "> Conditons:\n",
      " Coronary Artery Disease (CAD)           1\n",
      "Coronary artery abnormality ( ARCA )    1\n",
      "Name: min, dtype: int64\n",
      "> Total hits: 2\n",
      "\n",
      "Updating rates for coronary:\n",
      "  Condition  NHANES_rate  HVD_PGP_rate\n",
      "0  coronary     0.060791      0.002222\n",
      "\n"
     ]
    }
   ],
   "source": [
    "n_rate = process_NHANES(NHANES)\n",
    "h_rate = len(run_pg_query(condition_name))/N_HVD_PGP\n",
    "disease_rates = update_rates(disease_rates, name = condition_name, n_rate = n_rate, h_rate = h_rate)"
   ]
  },
  {
   "cell_type": "markdown",
   "id": "7ec361e2",
   "metadata": {},
   "source": [
    "# Emphysema"
   ]
  },
  {
   "cell_type": "code",
   "execution_count": 357,
   "id": "5a19e51b",
   "metadata": {},
   "outputs": [],
   "source": [
    "condition_name = 'Emphysema'"
   ]
  },
  {
   "cell_type": "code",
   "execution_count": 358,
   "id": "1a9ede00",
   "metadata": {},
   "outputs": [],
   "source": [
    "NHANES = \"\"\"\n",
    "Code or Value\tValue Description\tCount\tCumulative\tSkip to Item\n",
    "1\tYes\t106\t106\t\n",
    "2\tNo\t5450\t5556\t\"\"\""
   ]
  },
  {
   "cell_type": "code",
   "execution_count": 359,
   "id": "71393ce6",
   "metadata": {},
   "outputs": [
    {
     "name": "stdout",
     "output_type": "stream",
     "text": [
      "   Code or Value Value Description  Count  Cumulative\n",
      "0              1               Yes    106         106\n",
      "1              2                No   5450        5556 \n",
      "\n",
      "Query results for Emphysema:\n",
      "> Conditons:\n",
      " Emphysema    4\n",
      "Name: min, dtype: int64\n",
      "> Total hits: 4\n",
      "\n",
      "Updating rates for Emphysema:\n",
      "   Condition  NHANES_rate  HVD_PGP_rate\n",
      "0  Emphysema     0.019078      0.004444\n",
      "\n"
     ]
    }
   ],
   "source": [
    "n_rate = process_NHANES(NHANES)\n",
    "h_rate = len(run_pg_query(condition_name))/N_HVD_PGP\n",
    "disease_rates = update_rates(disease_rates, name = condition_name, n_rate = n_rate, h_rate = h_rate)"
   ]
  },
  {
   "cell_type": "markdown",
   "id": "00919cdc",
   "metadata": {},
   "source": [
    "# Bronchitis"
   ]
  },
  {
   "cell_type": "code",
   "execution_count": 360,
   "id": "633503d5",
   "metadata": {},
   "outputs": [],
   "source": [
    "condition_name = 'Bronchitis'"
   ]
  },
  {
   "cell_type": "code",
   "execution_count": 361,
   "id": "f7ad3830",
   "metadata": {},
   "outputs": [],
   "source": [
    "NHANES = \"\"\"\n",
    "Code or Value\tValue Description\tCount\tCumulative\tSkip to Item\n",
    "1\tYes\t395\t395\t\n",
    "2\tNo\t5168\t5563\t\"\"\""
   ]
  },
  {
   "cell_type": "code",
   "execution_count": 362,
   "id": "6643d42b",
   "metadata": {},
   "outputs": [
    {
     "name": "stdout",
     "output_type": "stream",
     "text": [
      "   Code or Value Value Description  Count  Cumulative\n",
      "0              1               Yes    395         395\n",
      "1              2                No   5168        5563 \n",
      "\n",
      "Query results for Bronchitis:\n",
      "> Conditons:\n",
      " Chronic bronchitis    34\n",
      "Bronchitis             5\n",
      "Chronic Bronchitis     1\n",
      "Name: min, dtype: int64\n",
      "> Total hits: 40\n",
      "\n",
      "Updating rates for Bronchitis:\n",
      "    Condition  NHANES_rate  HVD_PGP_rate\n",
      "0  Bronchitis     0.071005      0.044444\n",
      "\n"
     ]
    }
   ],
   "source": [
    "n_rate = process_NHANES(NHANES)\n",
    "h_rate = len(run_pg_query(condition_name))/N_HVD_PGP\n",
    "disease_rates = update_rates(disease_rates, name = condition_name, n_rate = n_rate, h_rate = h_rate)"
   ]
  },
  {
   "cell_type": "markdown",
   "id": "9fe51218",
   "metadata": {},
   "source": [
    "# Cancer"
   ]
  },
  {
   "cell_type": "code",
   "execution_count": 364,
   "id": "b28c9bc1",
   "metadata": {},
   "outputs": [],
   "source": [
    "condition_name = 'Cancer'"
   ]
  },
  {
   "cell_type": "code",
   "execution_count": 365,
   "id": "91c7b0f7",
   "metadata": {},
   "outputs": [],
   "source": [
    "NHANES = \"\"\"Code or Value\tValue Description\tCount\tCumulative\tSkip to Item\n",
    "1\tYes\t588\t588\t\n",
    "2\tNo\t4979\t5567\tMCQ300b\"\"\""
   ]
  },
  {
   "cell_type": "code",
   "execution_count": 366,
   "id": "083a7e48",
   "metadata": {},
   "outputs": [
    {
     "name": "stdout",
     "output_type": "stream",
     "text": [
      "   Code or Value Value Description  Count  Cumulative\n",
      "0              1               Yes    588         588\n",
      "1              2                No   4979        5567 \n",
      "\n",
      "Query results for Cancer:\n",
      "> Conditons:\n",
      " Non-melanoma skin cancer                              49\n",
      "Cervical cancer                                        6\n",
      "Breast Cancer                                          5\n",
      "Prostate cancer                                        5\n",
      "Breast cancer                                          4\n",
      "Prostate Cancer                                        3\n",
      "Endometrial cancer                                     3\n",
      "Basal cell skin cancer                                 2\n",
      "Thyroid cancer                                         2\n",
      "Kidney cancer                                          2\n",
      "Removal of ovary and borderline ovarian cancer tum     1\n",
      "F/H PROSTATE CANCER                                    1\n",
      "Kidney Cancer                                          1\n",
      "Brain cancer                                           1\n",
      "Colon Cancer                                           1\n",
      "Nasal Cancer                                           1\n",
      "Bladder cancer                                         1\n",
      "Name: min, dtype: int64\n",
      "> Total hits: 88\n",
      "\n",
      "Updating rates for Cancer:\n",
      "  Condition  NHANES_rate  HVD_PGP_rate\n",
      "0    Cancer     0.105622      0.097778\n",
      "\n"
     ]
    }
   ],
   "source": [
    "n_rate = process_NHANES(NHANES)\n",
    "h_rate = len(run_pg_query(condition_name))/N_HVD_PGP\n",
    "disease_rates = update_rates(disease_rates, name = condition_name, n_rate = n_rate, h_rate = h_rate)"
   ]
  },
  {
   "cell_type": "code",
   "execution_count": 367,
   "id": "611c1f42",
   "metadata": {},
   "outputs": [
    {
     "data": {
      "text/html": [
       "<div>\n",
       "<style scoped>\n",
       "    .dataframe tbody tr th:only-of-type {\n",
       "        vertical-align: middle;\n",
       "    }\n",
       "\n",
       "    .dataframe tbody tr th {\n",
       "        vertical-align: top;\n",
       "    }\n",
       "\n",
       "    .dataframe thead th {\n",
       "        text-align: right;\n",
       "    }\n",
       "</style>\n",
       "<table border=\"1\" class=\"dataframe\">\n",
       "  <thead>\n",
       "    <tr style=\"text-align: right;\">\n",
       "      <th></th>\n",
       "      <th>Condition</th>\n",
       "      <th>NHANES_rate</th>\n",
       "      <th>HVD_PGP_rate</th>\n",
       "    </tr>\n",
       "  </thead>\n",
       "  <tbody>\n",
       "    <tr>\n",
       "      <th>0</th>\n",
       "      <td>Hypertension</td>\n",
       "      <td>0.347423</td>\n",
       "      <td>0.145556</td>\n",
       "    </tr>\n",
       "    <tr>\n",
       "      <th>0</th>\n",
       "      <td>Diabetes</td>\n",
       "      <td>0.347423</td>\n",
       "      <td>0.048889</td>\n",
       "    </tr>\n",
       "    <tr>\n",
       "      <th>0</th>\n",
       "      <td>Hepatitis B</td>\n",
       "      <td>0.007257</td>\n",
       "      <td>0.002222</td>\n",
       "    </tr>\n",
       "    <tr>\n",
       "      <th>0</th>\n",
       "      <td>Hepatitis C</td>\n",
       "      <td>0.012615</td>\n",
       "      <td>0.002222</td>\n",
       "    </tr>\n",
       "    <tr>\n",
       "      <th>0</th>\n",
       "      <td>Arthritis</td>\n",
       "      <td>0.305295</td>\n",
       "      <td>0.122222</td>\n",
       "    </tr>\n",
       "    <tr>\n",
       "      <th>0</th>\n",
       "      <td>Osteoporosis</td>\n",
       "      <td>0.129708</td>\n",
       "      <td>0.025556</td>\n",
       "    </tr>\n",
       "    <tr>\n",
       "      <th>0</th>\n",
       "      <td>Asthma</td>\n",
       "      <td>0.149077</td>\n",
       "      <td>0.174444</td>\n",
       "    </tr>\n",
       "    <tr>\n",
       "      <th>0</th>\n",
       "      <td>Gout</td>\n",
       "      <td>0.060791</td>\n",
       "      <td>0.027778</td>\n",
       "    </tr>\n",
       "    <tr>\n",
       "      <th>0</th>\n",
       "      <td>coronary</td>\n",
       "      <td>0.060791</td>\n",
       "      <td>0.002222</td>\n",
       "    </tr>\n",
       "    <tr>\n",
       "      <th>0</th>\n",
       "      <td>Emphysema</td>\n",
       "      <td>0.019078</td>\n",
       "      <td>0.004444</td>\n",
       "    </tr>\n",
       "    <tr>\n",
       "      <th>0</th>\n",
       "      <td>Bronchitis</td>\n",
       "      <td>0.071005</td>\n",
       "      <td>0.044444</td>\n",
       "    </tr>\n",
       "    <tr>\n",
       "      <th>0</th>\n",
       "      <td>Cancer</td>\n",
       "      <td>0.105622</td>\n",
       "      <td>0.097778</td>\n",
       "    </tr>\n",
       "  </tbody>\n",
       "</table>\n",
       "</div>"
      ],
      "text/plain": [
       "      Condition  NHANES_rate  HVD_PGP_rate\n",
       "0  Hypertension     0.347423      0.145556\n",
       "0      Diabetes     0.347423      0.048889\n",
       "0   Hepatitis B     0.007257      0.002222\n",
       "0   Hepatitis C     0.012615      0.002222\n",
       "0     Arthritis     0.305295      0.122222\n",
       "0  Osteoporosis     0.129708      0.025556\n",
       "0        Asthma     0.149077      0.174444\n",
       "0          Gout     0.060791      0.027778\n",
       "0      coronary     0.060791      0.002222\n",
       "0     Emphysema     0.019078      0.004444\n",
       "0    Bronchitis     0.071005      0.044444\n",
       "0        Cancer     0.105622      0.097778"
      ]
     },
     "execution_count": 367,
     "metadata": {},
     "output_type": "execute_result"
    }
   ],
   "source": [
    "disease_rates"
   ]
  },
  {
   "cell_type": "code",
   "execution_count": 369,
   "id": "caf1ab63",
   "metadata": {},
   "outputs": [],
   "source": [
    "df = disease_rates"
   ]
  },
  {
   "cell_type": "code",
   "execution_count": 370,
   "id": "ee08572f",
   "metadata": {},
   "outputs": [
    {
     "data": {
      "image/png": "[encoded data removed]",
      "text/plain": [
       "<Figure size 1200x600 with 1 Axes>"
      ]
     },
     "metadata": {},
     "output_type": "display_data"
    }
   ],
   "source": [
    "# Plot the grouped bar chart\n",
    "plt.figure(figsize=(12, 6))\n",
    "bar_width = 0.4\n",
    "index = range(len(df))\n",
    "\n",
    "plt.bar(index, df['NHANES_rate'], width=bar_width, label='NHANES')\n",
    "plt.bar([i + bar_width for i in index], df['HVD_PGP_rate'], width=bar_width, label='HVD_PGP')\n",
    "\n",
    "plt.xlabel('Condition')\n",
    "plt.ylabel('Rate')\n",
    "plt.title('Disease Rates for NHANES and HVD_PGP Study Populations')\n",
    "plt.xticks([i + bar_width / 2 for i in index], df['Condition'], rotation=45, ha='right')\n",
    "plt.legend()\n",
    "plt.tight_layout()\n",
    "plt.show()"
   ]
  },
  {
   "cell_type": "code",
   "execution_count": 372,
   "id": "e0da2b7b",
   "metadata": {},
   "outputs": [
    {
     "name": "stdout",
     "output_type": "stream",
     "text": [
      "Query results for Gastroesophagea:\n",
      "> Conditons:\n",
      " Gastroesophageal reflux disease (GERD)    117\n",
      "Gastroesophageal Reflux Disease (GERD)     14\n",
      "Gastroesophageal reflux disease             3\n",
      "Name: min, dtype: int64\n",
      "> Total hits: 134\n",
      "\n"
     ]
    }
   ],
   "source": [
    "condition_name='Gastroesophagea'\n",
    "h_rate = len(run_pg_query(condition_name))/N_HVD_PGP"
   ]
  },
  {
   "cell_type": "code",
   "execution_count": 373,
   "id": "886ec5c8",
   "metadata": {},
   "outputs": [
    {
     "data": {
      "text/plain": [
       "0.14888888888888888"
      ]
     },
     "execution_count": 373,
     "metadata": {},
     "output_type": "execute_result"
    }
   ],
   "source": [
    "h_rate"
   ]
  },
  {
   "cell_type": "code",
   "execution_count": 384,
   "id": "5f09f3d5",
   "metadata": {},
   "outputs": [
    {
     "data": {
      "image/png": "[encoded data removed]",
      "text/plain": [
       "<Figure size 1200x600 with 1 Axes>"
      ]
     },
     "metadata": {},
     "output_type": "display_data"
    }
   ],
   "source": [
    "df['Overall_rate'] = df['NHANES_rate'] + df['HVD_PGP_rate']\n",
    "df_sorted = df.sort_values(by='Overall_rate', ascending=False)\n",
    "\n",
    "plt.figure(figsize=(12, 6))\n",
    "bar_width = 0.4\n",
    "index = range(len(df_sorted))\n",
    "\n",
    "plt.bar(index, df_sorted['NHANES_rate'], width=bar_width, label='NHANES')\n",
    "plt.bar([i + bar_width for i in index], df_sorted['HVD_PGP_rate'], width=bar_width, label='HVD_PGP')\n",
    "\n",
    "plt.xlabel('Condition')\n",
    "plt.ylabel('Rate')\n",
    "plt.title('Disease Rates for NHANES and HVD_PGP Study Populations')\n",
    "plt.xticks([i + bar_width / 2 for i in index], df_sorted['Condition'], rotation=45, ha='right')\n",
    "plt.legend()\n",
    "plt.tight_layout()\n",
    "plt.show()"
   ]
  },
  {
   "cell_type": "code",
   "execution_count": 391,
   "id": "d3bc0c22",
   "metadata": {},
   "outputs": [],
   "source": [
    "def run_pg_query(search_term,concept_set):\n",
    "    \n",
    "    def get_password(txt_path):\n",
    "        with open(txt_path,'r') as f:\n",
    "            for line in f:\n",
    "                password=line.strip('\\n')\n",
    "        return password\n",
    "                \n",
    "    password=get_password('/Users/jerenolsen/Desktop/password.txt')\n",
    "                    \n",
    "    db_params = {\n",
    "    \"host\": \"localhost\",\n",
    "    \"port\": \"5432\",\n",
    "    \"database\": \"etl-testing\",\n",
    "    \"user\": \"postgres\",\n",
    "    \"password\": \"{password}\".format(password=password)\n",
    "    }\n",
    "    \n",
    "    query = \"\"\"\n",
    "            SELECT DISTINCT person_id, min(val)\n",
    "            FROM (\n",
    "                SELECT person_id, condition_source_value AS val, condition_concept_id as id\n",
    "                FROM cdm.condition_occurrence\n",
    "                UNION ALL\n",
    "                SELECT person_id, observation_source_value AS val, observation_concept_id as id\n",
    "                FROM cdm.observation\n",
    "            ) AS combined_table\n",
    "            WHERE id IN ({concept_set})\n",
    "            GROUP BY person_id;\n",
    "            \"\"\".format(concept_set = ','.join(map(str, concept_set)))\n",
    "    \n",
    "    try:\n",
    "\n",
    "        connection = psycopg2.connect(**db_params)\n",
    "        cursor = connection.cursor()\n",
    "\n",
    "        cursor.execute(query)\n",
    "        data = cursor.fetchall()\n",
    "        column_names = [desc[0] for desc in cursor.description]\n",
    "\n",
    "        df = pd.DataFrame(data, columns=column_names)\n",
    "\n",
    "        cursor.close()\n",
    "        connection.close()\n",
    "        \n",
    "        print(f\"Query results for {search_term}:\\n> Conditons:\\n {df['min'].value_counts()}\\n> Total hits: {len(df)}\\n\")\n",
    "\n",
    "        return df\n",
    "\n",
    "    except (Exception, psycopg2.Error) as error:\n",
    "        print(\"Error while connecting to PostgreSQL or executing query:\", error)\n",
    "        return None"
   ]
  },
  {
   "cell_type": "code",
   "execution_count": 394,
   "id": "1b1f17ca",
   "metadata": {},
   "outputs": [
    {
     "name": "stdout",
     "output_type": "stream",
     "text": [
      "   Code or Value Value Description  Count  Cumulative\n",
      "0              1               Yes   2137        2137\n",
      "1              2                No   4014        6151 \n",
      "\n",
      "Query results for Hypertension:\n",
      "> Conditons:\n",
      " Hypertension                                          104\n",
      "High blood pressure                                    18\n",
      "Benign hypertension                                     4\n",
      "Essential Hypertension                                  3\n",
      "High blood potassium                                    1\n",
      "HTN (hypertension)                                      1\n",
      "Essential Stage I hypertension, Despite Medication      1\n",
      "Name: min, dtype: int64\n",
      "> Total hits: 132\n",
      "\n",
      "Updating rates for Hypertension:\n",
      "      Condition  NHANES_rate  HVD_PGP_rate\n",
      "0  Hypertension     0.347423      0.146667\n",
      "\n"
     ]
    }
   ],
   "source": [
    "condition_name = 'Hypertension'\n",
    "concept_set = [132685,134414,135601,136743,136760,137940,141084,141639,192684,197930,200157,201912,312648,314090,314103,314423,314958,316866,317895,317898,318437,319826,320128,320456,321074,321080,321638,433536,438490,439077,439393,441922,443771,762994,1340364,1340440,3656115,4006325,4023318,4028741,4028951,4032952,4034031,4034094,4034095,4048212,4049389,4057976,4057978,4057979,4058987,4061667,4062550,4062811,4062906,4071202,4080325,4083723,4094374,4108213,4110947,4110948,4118910,4146627,4146816,4148205,4151903,4159755,4162306,4167358,4167493,4174979,4178312,4179379,4180283,4199306,4209293,4212496,4215640,4217486,4218088,4219323,4221991,4227607,4242878,4249016,4253928,4262182,4263067,4269358,4276511,4277110,4279525,4283352,4289142,4289933,4291933,4302591,4304837,4305599,4311246,4316372,4321603,4322735,35622939,35624277,36713024,36715087,37016726,37208172,37208293,40481896,42538697,42538946,42873163,43020424,43021830,44783643,44783644,44784483,44784484,44809026,44809027,44809548,44809569,44811110,44811932,44811933,45757119,45757137,45757356,45757444,45757445,45757446,45757447,45757756,45757787,45757788,45768449,45771064,45771067]\n",
    "NHANES = \"\"\"Code or Value\tValue Description\tCount\tCumulative\tSkip to Item\n",
    "1\tYes\t2137\t2137\t\n",
    "2\tNo\t4014\t6151\"\"\"\n",
    "n_rate = process_NHANES(NHANES)\n",
    "h_rate = len(run_pg_query(search_term = condition_name, concept_set = concept_set))/N_HVD_PGP\n",
    "disease_rates = update_rates(disease_rates, name = condition_name, n_rate = n_rate, h_rate = h_rate)"
   ]
  },
  {
   "cell_type": "code",
   "execution_count": null,
   "id": "534125cb",
   "metadata": {},
   "outputs": [],
   "source": []
  }
 ],
 "metadata": {
  "kernelspec": {
   "display_name": "Python 3 (ipykernel)",
   "language": "python",
   "name": "python3"
  },
  "language_info": {
   "codemirror_mode": {
    "name": "ipython",
    "version": 3
   },
   "file_extension": ".py",
   "mimetype": "text/x-python",
   "name": "python",
   "nbconvert_exporter": "python",
   "pygments_lexer": "ipython3",
   "version": "3.9.13"
  }
 },
 "nbformat": 4,
 "nbformat_minor": 5
}
