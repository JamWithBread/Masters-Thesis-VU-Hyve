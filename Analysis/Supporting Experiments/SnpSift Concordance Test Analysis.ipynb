{
 "cells": [
  {
   "cell_type": "code",
   "execution_count": 1,
   "id": "bd109bc8",
   "metadata": {},
   "outputs": [],
   "source": [
    "import pandas as pd"
   ]
  },
  {
   "cell_type": "markdown",
   "id": "ee204abf",
   "metadata": {},
   "source": [
    "# SnpSift Concordance Output \n",
    "### Comparing imputed hu1AF4ED_23andMe_imputed.vcf and hu1AF4ED_CG_imputed.vcf files"
   ]
  },
  {
   "cell_type": "code",
   "execution_count": null,
   "id": "80cd595d",
   "metadata": {},
   "outputs": [],
   "source": [
    "path = path = '/Users/jerenolsen/Desktop/All_Tests/bcftools_and_concordance/testing_concordance/snpSift_concordance_ouput/concordance_hu1AF4ED_23andMe_imputed_hu1AF4ED_CGI_imputed.by_sample.txt'"
   ]
  },
  {
   "cell_type": "code",
   "execution_count": 133,
   "id": "29d05294",
   "metadata": {},
   "outputs": [],
   "source": [
    "def read_concordance(conc_file):\n",
    "    cols = None\n",
    "    with open(conc_file, 'r') as f:\n",
    "        for line in f:\n",
    "            cols = line\n",
    "            break\n",
    "            \n",
    "    cols = line.strip('\\n')\n",
    "    cols = cols.rsplit(\"\\t\")\n",
    "    cols.remove('')\n",
    "    cols.remove('')\n",
    "    cols.remove('')\n",
    "    cols.insert(1, 'Unknown3')\n",
    "    cols.insert(1, 'Unknown2')\n",
    "    cols.insert(1, 'Unknown1')\n",
    "    \n",
    "    cols.append('Unknown')\n",
    "    col_types = {col:str for col in cols}\n",
    "    \n",
    "    df = pd.read_csv(conc_file, skiprows = 1, sep='\\t', names = cols, header = None, dtype=col_types)\n",
    "    return df"
   ]
  },
  {
   "cell_type": "code",
   "execution_count": 135,
   "id": "71cacc94",
   "metadata": {},
   "outputs": [],
   "source": [
    "df = read_concordance(path)"
   ]
  },
  {
   "cell_type": "code",
   "execution_count": 143,
   "id": "d849aa1e",
   "metadata": {},
   "outputs": [],
   "source": [
    "def get_changed_counts(df):\n",
    "    # Columns with '/' indicate sameness or difference between the two allele types the '/' separates\n",
    "    # ie: ALT_1/REF -> ALT_1 position in file 1 changed to REF in file 2\n",
    "    conc_sample = df\n",
    "    same = 0\n",
    "    total = 0\n",
    "    for col in conc_sample.keys():\n",
    "        items = col.split('/')\n",
    "        if len(items) <= 1: #Skip row because no '/'\n",
    "            continue\n",
    "        elif items[0] == items[1]: #Example: ALT_1/ALT_1\n",
    "            same+=int(conc_sample[col])\n",
    "\n",
    "        try:\n",
    "            total += int(conc_sample[col]) #Example: ALT_1/REF\n",
    "        except Exception as e:\n",
    "            continue\n",
    "            \n",
    "    return same, total"
   ]
  },
  {
   "cell_type": "code",
   "execution_count": 144,
   "id": "6344748d",
   "metadata": {},
   "outputs": [],
   "source": [
    "same, total = get_changed_counts(df)"
   ]
  },
  {
   "cell_type": "code",
   "execution_count": 145,
   "id": "cfe6f43b",
   "metadata": {},
   "outputs": [],
   "source": [
    "alt1_to_ref = int(conc_sample['ALT_1/REF'])\n",
    "alt1_to_alt2 = int(conc_sample['ALT_1/ALT_2'])\n",
    "\n",
    "alt2_to_alt1 = int(conc_sample['ALT_2/ALT_1'])\n",
    "alt2_to_ref = int(conc_sample['ALT_2/REF'])\n",
    "\n",
    "ref_to_alt1 = int(conc_sample['REF/ALT_1'])\n",
    "ref_to_alt2 = int(conc_sample['REF/ALT_2'])"
   ]
  },
  {
   "cell_type": "code",
   "execution_count": 193,
   "id": "5069a3f9",
   "metadata": {},
   "outputs": [
    {
     "name": "stdout",
     "output_type": "stream",
     "text": [
      "Total Positions: 30761499\n",
      "Changed Positions: 445761\n",
      "Changed Percent: 1.45%\n"
     ]
    }
   ],
   "source": [
    "print(f\"Total Positions: {total}\")\n",
    "print(f\"Changed Positions: {total-same}\")\n",
    "print(f\"Changed Percent: {round(100 - same/total*100,2)}%\")"
   ]
  },
  {
   "cell_type": "code",
   "execution_count": 147,
   "id": "7d098a23",
   "metadata": {},
   "outputs": [
    {
     "name": "stdout",
     "output_type": "stream",
     "text": [
      "Changed Heterozygous ALT to Homozygous REF : 189788, 0.62% \n",
      "Changed Heterozygous ALT to Homozygous ALT: 49242, 0.16% \n"
     ]
    }
   ],
   "source": [
    "print(f\"Changed Heterozygous ALT to Homozygous REF : {alt1_to_ref}, {round((alt1_to_ref/total)*100,2)}% \")\n",
    "print(f\"Changed Heterozygous ALT to Homozygous ALT: {alt1_to_alt2}, {round((alt1_to_alt2/total)*100,2)}% \")"
   ]
  },
  {
   "cell_type": "code",
   "execution_count": 148,
   "id": "0f34aa0a",
   "metadata": {},
   "outputs": [
    {
     "name": "stdout",
     "output_type": "stream",
     "text": [
      "Changed Homozygous ALT to Heterozygous REF : 44843, 0.15% \n",
      "Changed Homozygous ALT to Homozygous REF: 9114, 0.03% \n"
     ]
    }
   ],
   "source": [
    "print(f\"Changed Homozygous ALT to Heterozygous REF : {alt2_to_alt1}, {round((alt2_to_alt1/total)*100,2)}% \")\n",
    "print(f\"Changed Homozygous ALT to Homozygous REF: {alt2_to_ref}, {round((alt2_to_ref/total)*100,2)}% \")"
   ]
  },
  {
   "cell_type": "code",
   "execution_count": 149,
   "id": "3d71602d",
   "metadata": {},
   "outputs": [
    {
     "name": "stdout",
     "output_type": "stream",
     "text": [
      "Changed Homozygous REF to Heterozygous ALT : 146393, 0.48% \n",
      "Changed Homozygous REF to Homozygous ALT: 6293, 0.02% \n"
     ]
    }
   ],
   "source": [
    "print(f\"Changed Homozygous REF to Heterozygous ALT : {ref_to_alt1}, {round((ref_to_alt1/total)*100,2)}% \")\n",
    "print(f\"Changed Homozygous REF to Homozygous ALT: {ref_to_alt2}, {round((ref_to_alt2/total)*100,2)}% \")"
   ]
  },
  {
   "cell_type": "code",
   "execution_count": 182,
   "id": "a192fb4c",
   "metadata": {},
   "outputs": [],
   "source": [
    "from tabulate import tabulate\n",
    "\n",
    "data = [\n",
    "    [\"Heterozygous ALT to Homozygous REF\", alt1_to_ref, f\"{round((alt1_to_ref/total)*100,2)}%\"],\n",
    "    [\"Heterozygous ALT to Homozygous ALT\", alt1_to_alt2, f\"{round((alt1_to_alt2/total)*100,2)}%\"],\n",
    "    [\"Homozygous ALT to Heterozygous REF\", alt2_to_alt1, f\"{round((alt2_to_alt1/total)*100,2)}%\"],\n",
    "    [\"Homozygous ALT to Homozygous REF\", alt2_to_ref, f\"{round((alt2_to_ref/total)*100,2)}%\"],\n",
    "    [\"Homozygous REF to Heterozygous ALT\", ref_to_alt1, f\"{round((ref_to_alt1/total)*100,2)}%\"],\n",
    "    [\"Homozygous REF to Homozygous ALT\", ref_to_alt2, f\"{round((ref_to_alt2/total)*100,2)}%\"]\n",
    "]"
   ]
  },
  {
   "cell_type": "code",
   "execution_count": 183,
   "id": "d9c504d5",
   "metadata": {},
   "outputs": [
    {
     "name": "stdout",
     "output_type": "stream",
     "text": [
      "╒════════════════════════════════════╤═════════╤══════════════╕\n",
      "│ Allele Change Type                 │   Count │ Percentage   │\n",
      "╞════════════════════════════════════╪═════════╪══════════════╡\n",
      "│ Heterozygous ALT to Homozygous REF │  189788 │ 0.62%        │\n",
      "├────────────────────────────────────┼─────────┼──────────────┤\n",
      "│ Heterozygous ALT to Homozygous ALT │   49242 │ 0.16%        │\n",
      "├────────────────────────────────────┼─────────┼──────────────┤\n",
      "│ Homozygous ALT to Heterozygous REF │   44843 │ 0.15%        │\n",
      "├────────────────────────────────────┼─────────┼──────────────┤\n",
      "│ Homozygous ALT to Homozygous REF   │    9114 │ 0.03%        │\n",
      "├────────────────────────────────────┼─────────┼──────────────┤\n",
      "│ Homozygous REF to Heterozygous ALT │  146393 │ 0.48%        │\n",
      "├────────────────────────────────────┼─────────┼──────────────┤\n",
      "│ Homozygous REF to Homozygous ALT   │    6293 │ 0.02%        │\n",
      "╘════════════════════════════════════╧═════════╧══════════════╛\n"
     ]
    }
   ],
   "source": [
    "print(tabulate(data, headers=[\"Allele Change Type\", \"Count\", \"Percentage\"], tablefmt=\"fancy_grid\", numalign=\"right\"))"
   ]
  },
  {
   "cell_type": "code",
   "execution_count": 191,
   "id": "8bf9acc6",
   "metadata": {},
   "outputs": [],
   "source": [
    "data = [\n",
    "    ['Total Positions Count', total],\n",
    "    [\"Changed Positions Count\", total-same],\n",
    "    [\"Changed Percent\", round(100 - same/total*100,2)]\n",
    "    \n",
    "]"
   ]
  },
  {
   "cell_type": "code",
   "execution_count": 192,
   "id": "503011c8",
   "metadata": {},
   "outputs": [
    {
     "name": "stdout",
     "output_type": "stream",
     "text": [
      "╒═════════════════════════╤═════════════╕\n",
      "│ Position Similarities   │     Measure │\n",
      "╞═════════════════════════╪═════════════╡\n",
      "│ Total Positions Count   │ 3.07615e+07 │\n",
      "├─────────────────────────┼─────────────┤\n",
      "│ Changed Positions Count │      445761 │\n",
      "├─────────────────────────┼─────────────┤\n",
      "│ Changed Percent         │        1.45 │\n",
      "╘═════════════════════════╧═════════════╛\n"
     ]
    }
   ],
   "source": [
    "print(tabulate(data, headers=[\"Position Similarities\",'Measure'], tablefmt=\"fancy_grid\", numalign=\"right\"))"
   ]
  },
  {
   "cell_type": "code",
   "execution_count": null,
   "id": "2c5a1c41",
   "metadata": {},
   "outputs": [],
   "source": []
  },
  {
   "cell_type": "code",
   "execution_count": null,
   "id": "b246d4a4",
   "metadata": {},
   "outputs": [],
   "source": []
  }
 ],
 "metadata": {
  "kernelspec": {
   "display_name": "Python 3 (ipykernel)",
   "language": "python",
   "name": "python3"
  },
  "language_info": {
   "codemirror_mode": {
    "name": "ipython",
    "version": 3
   },
   "file_extension": ".py",
   "mimetype": "text/x-python",
   "name": "python",
   "nbconvert_exporter": "python",
   "pygments_lexer": "ipython3",
   "version": "3.9.13"
  }
 },
 "nbformat": 4,
 "nbformat_minor": 5
}
