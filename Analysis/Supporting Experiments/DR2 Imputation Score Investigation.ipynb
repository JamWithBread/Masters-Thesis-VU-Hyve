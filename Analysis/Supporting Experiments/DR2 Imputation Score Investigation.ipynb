{
 "cells": [
  {
   "cell_type": "code",
   "execution_count": 1,
   "id": "0840a7b4",
   "metadata": {},
   "outputs": [],
   "source": [
    "import pandas as pd\n",
    "pd.options.mode.chained_assignment = None  # default='warn'\n",
    "import os\n",
    "import gc"
   ]
  },
  {
   "cell_type": "code",
   "execution_count": 2,
   "id": "ce481368",
   "metadata": {},
   "outputs": [
    {
     "data": {
      "text/plain": [
       "0"
      ]
     },
     "execution_count": 2,
     "metadata": {},
     "output_type": "execute_result"
    }
   ],
   "source": [
    "gc.collect()"
   ]
  },
  {
   "cell_type": "code",
   "execution_count": 3,
   "id": "65a97a02",
   "metadata": {},
   "outputs": [],
   "source": [
    "def read_vcf(vcf_file):\n",
    "\n",
    "    header = []\n",
    "    col_line = None\n",
    "    with open(vcf_file, 'r') as f:\n",
    "        for line in f:\n",
    "            if '#CHROM' in line:\n",
    "                col_line = col_line\n",
    "                break\n",
    "            else:\n",
    "                header.append(line)\n",
    "\n",
    "    cols = line.strip('\\n')\n",
    "    cols = cols.strip('#').rsplit('\\t')\n",
    "    col_types = {col:str for col in cols}\n",
    "\n",
    "    df = pd.read_csv(vcf_file, sep='\\t', names = cols, header = None, comment = '#', dtype=col_types)\n",
    "\n",
    "    return header, df"
   ]
  },
  {
   "cell_type": "code",
   "execution_count": 4,
   "id": "067b195d",
   "metadata": {},
   "outputs": [],
   "source": [
    "path = '/Users/jerenolsen/Desktop/Genomics_Pipeline_Versions/Genomics_Pipeline/2. Imputation/final_output/hu1AF4ED_23andMe_imputed.vcf'\n",
    "_,df = read_vcf(path)"
   ]
  },
  {
   "cell_type": "code",
   "execution_count": 71,
   "id": "61241e2a",
   "metadata": {},
   "outputs": [
    {
     "data": {
      "text/html": [
       "<div>\n",
       "<style scoped>\n",
       "    .dataframe tbody tr th:only-of-type {\n",
       "        vertical-align: middle;\n",
       "    }\n",
       "\n",
       "    .dataframe tbody tr th {\n",
       "        vertical-align: top;\n",
       "    }\n",
       "\n",
       "    .dataframe thead th {\n",
       "        text-align: right;\n",
       "    }\n",
       "</style>\n",
       "<table border=\"1\" class=\"dataframe\">\n",
       "  <thead>\n",
       "    <tr style=\"text-align: right;\">\n",
       "      <th></th>\n",
       "      <th>CHROM</th>\n",
       "      <th>POS</th>\n",
       "      <th>ID</th>\n",
       "      <th>REF</th>\n",
       "      <th>ALT</th>\n",
       "      <th>QUAL</th>\n",
       "      <th>FILTER</th>\n",
       "      <th>INFO</th>\n",
       "      <th>FORMAT</th>\n",
       "      <th>hu1AF4ED</th>\n",
       "    </tr>\n",
       "  </thead>\n",
       "  <tbody>\n",
       "    <tr>\n",
       "      <th>4</th>\n",
       "      <td>10</td>\n",
       "      <td>60969</td>\n",
       "      <td>rs61838556</td>\n",
       "      <td>C</td>\n",
       "      <td>A</td>\n",
       "      <td>.</td>\n",
       "      <td>PASS</td>\n",
       "      <td>DR2=0.03;AF=0.9673;IMP</td>\n",
       "      <td>GT:DS</td>\n",
       "      <td>1|1:1.93</td>\n",
       "    </tr>\n",
       "    <tr>\n",
       "      <th>32</th>\n",
       "      <td>10</td>\n",
       "      <td>64767</td>\n",
       "      <td>rs61838558</td>\n",
       "      <td>C</td>\n",
       "      <td>T</td>\n",
       "      <td>.</td>\n",
       "      <td>PASS</td>\n",
       "      <td>DR2=0.02;AF=0.9778;IMP</td>\n",
       "      <td>GT:DS</td>\n",
       "      <td>1|1:1.96</td>\n",
       "    </tr>\n",
       "    <tr>\n",
       "      <th>36</th>\n",
       "      <td>10</td>\n",
       "      <td>65878</td>\n",
       "      <td>rs28887774</td>\n",
       "      <td>C</td>\n",
       "      <td>G</td>\n",
       "      <td>.</td>\n",
       "      <td>PASS</td>\n",
       "      <td>DR2=0.02;AF=0.9773;IMP</td>\n",
       "      <td>GT:DS</td>\n",
       "      <td>1|1:1.95</td>\n",
       "    </tr>\n",
       "    <tr>\n",
       "      <th>40</th>\n",
       "      <td>10</td>\n",
       "      <td>66695</td>\n",
       "      <td>rs368405462</td>\n",
       "      <td>T</td>\n",
       "      <td>A</td>\n",
       "      <td>.</td>\n",
       "      <td>PASS</td>\n",
       "      <td>DR2=0.02;AF=0.9778;IMP</td>\n",
       "      <td>GT:DS</td>\n",
       "      <td>1|1:1.96</td>\n",
       "    </tr>\n",
       "    <tr>\n",
       "      <th>50</th>\n",
       "      <td>10</td>\n",
       "      <td>67774</td>\n",
       "      <td>rs9943471</td>\n",
       "      <td>G</td>\n",
       "      <td>C</td>\n",
       "      <td>.</td>\n",
       "      <td>PASS</td>\n",
       "      <td>DR2=0.00;AF=1.0000;IMP</td>\n",
       "      <td>GT:DS</td>\n",
       "      <td>1|1:2</td>\n",
       "    </tr>\n",
       "  </tbody>\n",
       "</table>\n",
       "</div>"
      ],
      "text/plain": [
       "   CHROM    POS           ID REF ALT QUAL FILTER                    INFO  \\\n",
       "4     10  60969   rs61838556   C   A    .   PASS  DR2=0.03;AF=0.9673;IMP   \n",
       "32    10  64767   rs61838558   C   T    .   PASS  DR2=0.02;AF=0.9778;IMP   \n",
       "36    10  65878   rs28887774   C   G    .   PASS  DR2=0.02;AF=0.9773;IMP   \n",
       "40    10  66695  rs368405462   T   A    .   PASS  DR2=0.02;AF=0.9778;IMP   \n",
       "50    10  67774    rs9943471   G   C    .   PASS  DR2=0.00;AF=1.0000;IMP   \n",
       "\n",
       "   FORMAT  hu1AF4ED  \n",
       "4   GT:DS  1|1:1.93  \n",
       "32  GT:DS  1|1:1.96  \n",
       "36  GT:DS  1|1:1.95  \n",
       "40  GT:DS  1|1:1.96  \n",
       "50  GT:DS     1|1:2  "
      ]
     },
     "execution_count": 71,
     "metadata": {},
     "output_type": "execute_result"
    }
   ],
   "source": [
    "df.head()"
   ]
  },
  {
   "cell_type": "markdown",
   "id": "c9b471d7",
   "metadata": {},
   "source": [
    "# Filter out non-SNPs"
   ]
  },
  {
   "cell_type": "code",
   "execution_count": 6,
   "id": "1056b4c3",
   "metadata": {},
   "outputs": [
    {
     "data": {
      "text/plain": [
       "27904794"
      ]
     },
     "execution_count": 6,
     "metadata": {},
     "output_type": "execute_result"
    }
   ],
   "source": [
    "df = df[df['REF'].str.len() == 1]\n",
    "df = df[df['ALT'].str.len() == 1]\n",
    "len(df)"
   ]
  },
  {
   "cell_type": "markdown",
   "id": "9cc196cf",
   "metadata": {},
   "source": [
    "# Filter out MAF < 0.05"
   ]
  },
  {
   "cell_type": "code",
   "execution_count": 7,
   "id": "315971bb",
   "metadata": {},
   "outputs": [
    {
     "name": "stdout",
     "output_type": "stream",
     "text": [
      "27904794\n",
      "3926780\n"
     ]
    }
   ],
   "source": [
    "print(len(df))\n",
    "af_col = df['INFO'].str[12:18]\n",
    "af_filter = af_col.astype(float) > 0.05\n",
    "df = df[af_filter]\n",
    "print(len(df))\n"
   ]
  },
  {
   "cell_type": "markdown",
   "id": "b3f891cf",
   "metadata": {},
   "source": [
    "# Filter Poorly Imputed SNPs (low dosage squared)"
   ]
  },
  {
   "cell_type": "code",
   "execution_count": 8,
   "id": "7e5e5880",
   "metadata": {},
   "outputs": [],
   "source": [
    "dr2_col = df['INFO'].str[4:8]"
   ]
  },
  {
   "cell_type": "code",
   "execution_count": 9,
   "id": "834a9f6e",
   "metadata": {},
   "outputs": [
    {
     "data": {
      "text/plain": [
       "4           0.03\n",
       "32          0.02\n",
       "36          0.02\n",
       "40          0.02\n",
       "50          0.00\n",
       "            ... \n",
       "30761482    0.12\n",
       "30761483    0.12\n",
       "30761485    0.08\n",
       "30761486    0.56\n",
       "30761487    0.05\n",
       "Name: INFO, Length: 3926780, dtype: object"
      ]
     },
     "execution_count": 9,
     "metadata": {},
     "output_type": "execute_result"
    }
   ],
   "source": [
    "dr2_col"
   ]
  },
  {
   "cell_type": "code",
   "execution_count": 10,
   "id": "0b0ccab5",
   "metadata": {},
   "outputs": [],
   "source": [
    "non_imputed = df[df['INFO'].str.contains('IMP') == False]"
   ]
  },
  {
   "cell_type": "code",
   "execution_count": 11,
   "id": "4c77f09a",
   "metadata": {},
   "outputs": [
    {
     "data": {
      "text/html": [
       "<div>\n",
       "<style scoped>\n",
       "    .dataframe tbody tr th:only-of-type {\n",
       "        vertical-align: middle;\n",
       "    }\n",
       "\n",
       "    .dataframe tbody tr th {\n",
       "        vertical-align: top;\n",
       "    }\n",
       "\n",
       "    .dataframe thead th {\n",
       "        text-align: right;\n",
       "    }\n",
       "</style>\n",
       "<table border=\"1\" class=\"dataframe\">\n",
       "  <thead>\n",
       "    <tr style=\"text-align: right;\">\n",
       "      <th></th>\n",
       "      <th>CHROM</th>\n",
       "      <th>POS</th>\n",
       "      <th>ID</th>\n",
       "      <th>REF</th>\n",
       "      <th>ALT</th>\n",
       "      <th>QUAL</th>\n",
       "      <th>FILTER</th>\n",
       "      <th>INFO</th>\n",
       "      <th>FORMAT</th>\n",
       "      <th>hu1AF4ED</th>\n",
       "    </tr>\n",
       "  </thead>\n",
       "  <tbody>\n",
       "    <tr>\n",
       "      <th>724</th>\n",
       "      <td>10</td>\n",
       "      <td>135708</td>\n",
       "      <td>rs7917054</td>\n",
       "      <td>G</td>\n",
       "      <td>A</td>\n",
       "      <td>.</td>\n",
       "      <td>PASS</td>\n",
       "      <td>DR2=1.00;AF=0.5000</td>\n",
       "      <td>GT:DS</td>\n",
       "      <td>1|0:1</td>\n",
       "    </tr>\n",
       "    <tr>\n",
       "      <th>726</th>\n",
       "      <td>10</td>\n",
       "      <td>135853</td>\n",
       "      <td>rs7906287</td>\n",
       "      <td>A</td>\n",
       "      <td>G</td>\n",
       "      <td>.</td>\n",
       "      <td>PASS</td>\n",
       "      <td>DR2=0.00;AF=1.0000</td>\n",
       "      <td>GT:DS</td>\n",
       "      <td>1|1:2</td>\n",
       "    </tr>\n",
       "    <tr>\n",
       "      <th>938</th>\n",
       "      <td>10</td>\n",
       "      <td>158946</td>\n",
       "      <td>rs11253562</td>\n",
       "      <td>C</td>\n",
       "      <td>T</td>\n",
       "      <td>.</td>\n",
       "      <td>PASS</td>\n",
       "      <td>DR2=1.00;AF=0.5000</td>\n",
       "      <td>GT:DS</td>\n",
       "      <td>1|0:1</td>\n",
       "    </tr>\n",
       "    <tr>\n",
       "      <th>1675</th>\n",
       "      <td>10</td>\n",
       "      <td>237750</td>\n",
       "      <td>rs11250790</td>\n",
       "      <td>G</td>\n",
       "      <td>A</td>\n",
       "      <td>.</td>\n",
       "      <td>PASS</td>\n",
       "      <td>DR2=0.00;AF=1.0000</td>\n",
       "      <td>GT:DS</td>\n",
       "      <td>1|1:2</td>\n",
       "    </tr>\n",
       "    <tr>\n",
       "      <th>2189</th>\n",
       "      <td>10</td>\n",
       "      <td>291134</td>\n",
       "      <td>rs10508201</td>\n",
       "      <td>T</td>\n",
       "      <td>C</td>\n",
       "      <td>.</td>\n",
       "      <td>PASS</td>\n",
       "      <td>DR2=0.00;AF=1.0000</td>\n",
       "      <td>GT:DS</td>\n",
       "      <td>1|1:2</td>\n",
       "    </tr>\n",
       "    <tr>\n",
       "      <th>2203</th>\n",
       "      <td>10</td>\n",
       "      <td>291999</td>\n",
       "      <td>rs3123252</td>\n",
       "      <td>G</td>\n",
       "      <td>A</td>\n",
       "      <td>.</td>\n",
       "      <td>PASS</td>\n",
       "      <td>DR2=0.00;AF=1.0000</td>\n",
       "      <td>GT:DS</td>\n",
       "      <td>1|1:2</td>\n",
       "    </tr>\n",
       "    <tr>\n",
       "      <th>2563</th>\n",
       "      <td>10</td>\n",
       "      <td>325841</td>\n",
       "      <td>rs17221260</td>\n",
       "      <td>G</td>\n",
       "      <td>T</td>\n",
       "      <td>.</td>\n",
       "      <td>PASS</td>\n",
       "      <td>DR2=0.00;AF=1.0000</td>\n",
       "      <td>GT:DS</td>\n",
       "      <td>1|1:2</td>\n",
       "    </tr>\n",
       "    <tr>\n",
       "      <th>2726</th>\n",
       "      <td>10</td>\n",
       "      <td>338553</td>\n",
       "      <td>rs3125031</td>\n",
       "      <td>C</td>\n",
       "      <td>T</td>\n",
       "      <td>.</td>\n",
       "      <td>PASS</td>\n",
       "      <td>DR2=0.00;AF=1.0000</td>\n",
       "      <td>GT:DS</td>\n",
       "      <td>1|1:2</td>\n",
       "    </tr>\n",
       "    <tr>\n",
       "      <th>2907</th>\n",
       "      <td>10</td>\n",
       "      <td>353306</td>\n",
       "      <td>rs4881041</td>\n",
       "      <td>G</td>\n",
       "      <td>A</td>\n",
       "      <td>.</td>\n",
       "      <td>PASS</td>\n",
       "      <td>DR2=0.00;AF=1.0000</td>\n",
       "      <td>GT:DS</td>\n",
       "      <td>1|1:2</td>\n",
       "    </tr>\n",
       "    <tr>\n",
       "      <th>3746</th>\n",
       "      <td>10</td>\n",
       "      <td>412449</td>\n",
       "      <td>rs1133113</td>\n",
       "      <td>A</td>\n",
       "      <td>G</td>\n",
       "      <td>.</td>\n",
       "      <td>PASS</td>\n",
       "      <td>DR2=0.00;AF=1.0000</td>\n",
       "      <td>GT:DS</td>\n",
       "      <td>1|1:2</td>\n",
       "    </tr>\n",
       "    <tr>\n",
       "      <th>3774</th>\n",
       "      <td>10</td>\n",
       "      <td>413440</td>\n",
       "      <td>rs7074221</td>\n",
       "      <td>C</td>\n",
       "      <td>T</td>\n",
       "      <td>.</td>\n",
       "      <td>PASS</td>\n",
       "      <td>DR2=0.00;AF=1.0000</td>\n",
       "      <td>GT:DS</td>\n",
       "      <td>1|1:2</td>\n",
       "    </tr>\n",
       "    <tr>\n",
       "      <th>4624</th>\n",
       "      <td>10</td>\n",
       "      <td>462298</td>\n",
       "      <td>rs10904172</td>\n",
       "      <td>A</td>\n",
       "      <td>G</td>\n",
       "      <td>.</td>\n",
       "      <td>PASS</td>\n",
       "      <td>DR2=0.00;AF=1.0000</td>\n",
       "      <td>GT:DS</td>\n",
       "      <td>1|1:2</td>\n",
       "    </tr>\n",
       "    <tr>\n",
       "      <th>4633</th>\n",
       "      <td>10</td>\n",
       "      <td>462885</td>\n",
       "      <td>rs10904173</td>\n",
       "      <td>G</td>\n",
       "      <td>A</td>\n",
       "      <td>.</td>\n",
       "      <td>PASS</td>\n",
       "      <td>DR2=0.00;AF=1.0000</td>\n",
       "      <td>GT:DS</td>\n",
       "      <td>1|1:2</td>\n",
       "    </tr>\n",
       "    <tr>\n",
       "      <th>5532</th>\n",
       "      <td>10</td>\n",
       "      <td>518156</td>\n",
       "      <td>rs6560845</td>\n",
       "      <td>C</td>\n",
       "      <td>A</td>\n",
       "      <td>.</td>\n",
       "      <td>PASS</td>\n",
       "      <td>DR2=0.00;AF=1.0000</td>\n",
       "      <td>GT:DS</td>\n",
       "      <td>1|1:2</td>\n",
       "    </tr>\n",
       "    <tr>\n",
       "      <th>5533</th>\n",
       "      <td>10</td>\n",
       "      <td>518199</td>\n",
       "      <td>rs11252614</td>\n",
       "      <td>G</td>\n",
       "      <td>A</td>\n",
       "      <td>.</td>\n",
       "      <td>PASS</td>\n",
       "      <td>DR2=1.00;AF=0.5000</td>\n",
       "      <td>GT:DS</td>\n",
       "      <td>1|0:1</td>\n",
       "    </tr>\n",
       "    <tr>\n",
       "      <th>6176</th>\n",
       "      <td>10</td>\n",
       "      <td>560600</td>\n",
       "      <td>rs2386705</td>\n",
       "      <td>C</td>\n",
       "      <td>T</td>\n",
       "      <td>.</td>\n",
       "      <td>PASS</td>\n",
       "      <td>DR2=0.00;AF=1.0000</td>\n",
       "      <td>GT:DS</td>\n",
       "      <td>1|1:2</td>\n",
       "    </tr>\n",
       "    <tr>\n",
       "      <th>6247</th>\n",
       "      <td>10</td>\n",
       "      <td>566379</td>\n",
       "      <td>rs11252926</td>\n",
       "      <td>C</td>\n",
       "      <td>T</td>\n",
       "      <td>.</td>\n",
       "      <td>PASS</td>\n",
       "      <td>DR2=0.00;AF=1.0000</td>\n",
       "      <td>GT:DS</td>\n",
       "      <td>1|1:2</td>\n",
       "    </tr>\n",
       "    <tr>\n",
       "      <th>6304</th>\n",
       "      <td>10</td>\n",
       "      <td>570172</td>\n",
       "      <td>rs1672503</td>\n",
       "      <td>T</td>\n",
       "      <td>C</td>\n",
       "      <td>.</td>\n",
       "      <td>PASS</td>\n",
       "      <td>DR2=0.00;AF=1.0000</td>\n",
       "      <td>GT:DS</td>\n",
       "      <td>1|1:2</td>\n",
       "    </tr>\n",
       "    <tr>\n",
       "      <th>6653</th>\n",
       "      <td>10</td>\n",
       "      <td>592283</td>\n",
       "      <td>rs816646</td>\n",
       "      <td>G</td>\n",
       "      <td>A</td>\n",
       "      <td>.</td>\n",
       "      <td>PASS</td>\n",
       "      <td>DR2=1.00;AF=0.5000</td>\n",
       "      <td>GT:DS</td>\n",
       "      <td>0|1:1</td>\n",
       "    </tr>\n",
       "    <tr>\n",
       "      <th>6706</th>\n",
       "      <td>10</td>\n",
       "      <td>595504</td>\n",
       "      <td>rs865289</td>\n",
       "      <td>G</td>\n",
       "      <td>A</td>\n",
       "      <td>.</td>\n",
       "      <td>PASS</td>\n",
       "      <td>DR2=1.00;AF=0.5000</td>\n",
       "      <td>GT:DS</td>\n",
       "      <td>0|1:1</td>\n",
       "    </tr>\n",
       "  </tbody>\n",
       "</table>\n",
       "</div>"
      ],
      "text/plain": [
       "     CHROM     POS          ID REF ALT QUAL FILTER                INFO FORMAT  \\\n",
       "724     10  135708   rs7917054   G   A    .   PASS  DR2=1.00;AF=0.5000  GT:DS   \n",
       "726     10  135853   rs7906287   A   G    .   PASS  DR2=0.00;AF=1.0000  GT:DS   \n",
       "938     10  158946  rs11253562   C   T    .   PASS  DR2=1.00;AF=0.5000  GT:DS   \n",
       "1675    10  237750  rs11250790   G   A    .   PASS  DR2=0.00;AF=1.0000  GT:DS   \n",
       "2189    10  291134  rs10508201   T   C    .   PASS  DR2=0.00;AF=1.0000  GT:DS   \n",
       "2203    10  291999   rs3123252   G   A    .   PASS  DR2=0.00;AF=1.0000  GT:DS   \n",
       "2563    10  325841  rs17221260   G   T    .   PASS  DR2=0.00;AF=1.0000  GT:DS   \n",
       "2726    10  338553   rs3125031   C   T    .   PASS  DR2=0.00;AF=1.0000  GT:DS   \n",
       "2907    10  353306   rs4881041   G   A    .   PASS  DR2=0.00;AF=1.0000  GT:DS   \n",
       "3746    10  412449   rs1133113   A   G    .   PASS  DR2=0.00;AF=1.0000  GT:DS   \n",
       "3774    10  413440   rs7074221   C   T    .   PASS  DR2=0.00;AF=1.0000  GT:DS   \n",
       "4624    10  462298  rs10904172   A   G    .   PASS  DR2=0.00;AF=1.0000  GT:DS   \n",
       "4633    10  462885  rs10904173   G   A    .   PASS  DR2=0.00;AF=1.0000  GT:DS   \n",
       "5532    10  518156   rs6560845   C   A    .   PASS  DR2=0.00;AF=1.0000  GT:DS   \n",
       "5533    10  518199  rs11252614   G   A    .   PASS  DR2=1.00;AF=0.5000  GT:DS   \n",
       "6176    10  560600   rs2386705   C   T    .   PASS  DR2=0.00;AF=1.0000  GT:DS   \n",
       "6247    10  566379  rs11252926   C   T    .   PASS  DR2=0.00;AF=1.0000  GT:DS   \n",
       "6304    10  570172   rs1672503   T   C    .   PASS  DR2=0.00;AF=1.0000  GT:DS   \n",
       "6653    10  592283    rs816646   G   A    .   PASS  DR2=1.00;AF=0.5000  GT:DS   \n",
       "6706    10  595504    rs865289   G   A    .   PASS  DR2=1.00;AF=0.5000  GT:DS   \n",
       "\n",
       "     hu1AF4ED  \n",
       "724     1|0:1  \n",
       "726     1|1:2  \n",
       "938     1|0:1  \n",
       "1675    1|1:2  \n",
       "2189    1|1:2  \n",
       "2203    1|1:2  \n",
       "2563    1|1:2  \n",
       "2726    1|1:2  \n",
       "2907    1|1:2  \n",
       "3746    1|1:2  \n",
       "3774    1|1:2  \n",
       "4624    1|1:2  \n",
       "4633    1|1:2  \n",
       "5532    1|1:2  \n",
       "5533    1|0:1  \n",
       "6176    1|1:2  \n",
       "6247    1|1:2  \n",
       "6304    1|1:2  \n",
       "6653    0|1:1  \n",
       "6706    0|1:1  "
      ]
     },
     "execution_count": 11,
     "metadata": {},
     "output_type": "execute_result"
    }
   ],
   "source": [
    "non_imputed.head(20)"
   ]
  },
  {
   "cell_type": "code",
   "execution_count": 12,
   "id": "abd99845",
   "metadata": {},
   "outputs": [],
   "source": [
    "dr2_filter = non_imputed[non_imputed['INFO'].str[4:8].astype(float) == 0]"
   ]
  },
  {
   "cell_type": "code",
   "execution_count": 13,
   "id": "056014de",
   "metadata": {},
   "outputs": [
    {
     "name": "stdout",
     "output_type": "stream",
     "text": [
      "261204\n"
     ]
    },
    {
     "data": {
      "text/plain": [
       "101096"
      ]
     },
     "execution_count": 13,
     "metadata": {},
     "output_type": "execute_result"
    }
   ],
   "source": [
    "print(len(non_imputed))\n",
    "len(dr2_filter)"
   ]
  },
  {
   "cell_type": "code",
   "execution_count": 14,
   "id": "633cd202",
   "metadata": {},
   "outputs": [],
   "source": [
    "x = dr2_col.astype(float)\n",
    "x_sub = x[0:100000]"
   ]
  },
  {
   "cell_type": "code",
   "execution_count": 15,
   "id": "cbd47b61",
   "metadata": {},
   "outputs": [
    {
     "data": {
      "image/png": "[encoded data removed]",
      "text/plain": [
       "<Figure size 500x500 with 1 Axes>"
      ]
     },
     "metadata": {},
     "output_type": "display_data"
    }
   ],
   "source": [
    "import seaborn as sns, numpy as np\n",
    "\n",
    "ax = sns.displot(x, bins = 50)"
   ]
  },
  {
   "cell_type": "markdown",
   "id": "b0946443",
   "metadata": {},
   "source": [
    "# TODO:\n",
    "##### - Load 23andMe imputed file and its equivalent but original CGI file (preprocessed). \n",
    "##### - Take imputed 23andMe file and filter out positions not seen in CGI File\n",
    "##### - Filter out non-imputed positions\n",
    "## Assess how accurate the imputed positions are vs the canon CGI positions. Is there a pattern in DR2 scores for correctly vs incorrectly imputed genotypes? - If yes use this as a heuristic for filtering using DR2 in all imputed data."
   ]
  },
  {
   "cell_type": "markdown",
   "id": "e8e53500",
   "metadata": {},
   "source": [
    "### In summary: filtering on DR2 score ->will not improve<- the proportion of incorrectly called variants to correctly called"
   ]
  },
  {
   "cell_type": "code",
   "execution_count": 16,
   "id": "e785272c",
   "metadata": {},
   "outputs": [],
   "source": [
    "canon_CG_path = '/Users/jerenolsen/Desktop/Genomics_Pipeline_Versions/Genomics_Pipeline/1. Preprocessing/output/hu1AF4ED_CGI_preprocessed_b37.vcf'\n",
    "imp_23andMe_path = '/Users/jerenolsen/Desktop/Genomics_Pipeline_Versions/Genomics_Pipeline/2. Imputation/final_output/hu1AF4ED_23andMe_imputed.vcf'"
   ]
  },
  {
   "cell_type": "code",
   "execution_count": 23,
   "id": "163d8a33",
   "metadata": {},
   "outputs": [],
   "source": [
    "_,canon_CGI = read_vcf(canon_CG_path)"
   ]
  },
  {
   "cell_type": "code",
   "execution_count": 24,
   "id": "298e9101",
   "metadata": {},
   "outputs": [],
   "source": [
    "_,imp_23andMe = read_vcf(imp_23andMe_path)"
   ]
  },
  {
   "cell_type": "code",
   "execution_count": 25,
   "id": "3f4ed3c3",
   "metadata": {},
   "outputs": [
    {
     "data": {
      "text/html": [
       "<div>\n",
       "<style scoped>\n",
       "    .dataframe tbody tr th:only-of-type {\n",
       "        vertical-align: middle;\n",
       "    }\n",
       "\n",
       "    .dataframe tbody tr th {\n",
       "        vertical-align: top;\n",
       "    }\n",
       "\n",
       "    .dataframe thead th {\n",
       "        text-align: right;\n",
       "    }\n",
       "</style>\n",
       "<table border=\"1\" class=\"dataframe\">\n",
       "  <thead>\n",
       "    <tr style=\"text-align: right;\">\n",
       "      <th></th>\n",
       "      <th>CHROM</th>\n",
       "      <th>POS</th>\n",
       "      <th>ID</th>\n",
       "      <th>REF</th>\n",
       "      <th>ALT</th>\n",
       "      <th>QUAL</th>\n",
       "      <th>FILTER</th>\n",
       "      <th>INFO</th>\n",
       "      <th>FORMAT</th>\n",
       "      <th>hu1AF4ED</th>\n",
       "    </tr>\n",
       "  </thead>\n",
       "  <tbody>\n",
       "    <tr>\n",
       "      <th>0</th>\n",
       "      <td>1</td>\n",
       "      <td>38232</td>\n",
       "      <td>.</td>\n",
       "      <td>A</td>\n",
       "      <td>G</td>\n",
       "      <td>.</td>\n",
       "      <td>.</td>\n",
       "      <td>.</td>\n",
       "      <td>GT</td>\n",
       "      <td>1/1</td>\n",
       "    </tr>\n",
       "    <tr>\n",
       "      <th>1</th>\n",
       "      <td>1</td>\n",
       "      <td>38907</td>\n",
       "      <td>.</td>\n",
       "      <td>C</td>\n",
       "      <td>T</td>\n",
       "      <td>.</td>\n",
       "      <td>.</td>\n",
       "      <td>.</td>\n",
       "      <td>GT</td>\n",
       "      <td>0/1</td>\n",
       "    </tr>\n",
       "    <tr>\n",
       "      <th>2</th>\n",
       "      <td>1</td>\n",
       "      <td>41981</td>\n",
       "      <td>rs806721</td>\n",
       "      <td>A</td>\n",
       "      <td>G</td>\n",
       "      <td>.</td>\n",
       "      <td>.</td>\n",
       "      <td>.</td>\n",
       "      <td>GT</td>\n",
       "      <td>1/1</td>\n",
       "    </tr>\n",
       "    <tr>\n",
       "      <th>3</th>\n",
       "      <td>1</td>\n",
       "      <td>47108</td>\n",
       "      <td>rs2531241</td>\n",
       "      <td>G</td>\n",
       "      <td>C</td>\n",
       "      <td>.</td>\n",
       "      <td>.</td>\n",
       "      <td>.</td>\n",
       "      <td>GT</td>\n",
       "      <td>0/1</td>\n",
       "    </tr>\n",
       "    <tr>\n",
       "      <th>4</th>\n",
       "      <td>1</td>\n",
       "      <td>47292</td>\n",
       "      <td>rs2691275</td>\n",
       "      <td>T</td>\n",
       "      <td>G</td>\n",
       "      <td>.</td>\n",
       "      <td>.</td>\n",
       "      <td>.</td>\n",
       "      <td>GT</td>\n",
       "      <td>0/1</td>\n",
       "    </tr>\n",
       "  </tbody>\n",
       "</table>\n",
       "</div>"
      ],
      "text/plain": [
       "  CHROM    POS         ID REF ALT QUAL FILTER INFO FORMAT hu1AF4ED\n",
       "0     1  38232          .   A   G    .      .    .     GT      1/1\n",
       "1     1  38907          .   C   T    .      .    .     GT      0/1\n",
       "2     1  41981   rs806721   A   G    .      .    .     GT      1/1\n",
       "3     1  47108  rs2531241   G   C    .      .    .     GT      0/1\n",
       "4     1  47292  rs2691275   T   G    .      .    .     GT      0/1"
      ]
     },
     "execution_count": 25,
     "metadata": {},
     "output_type": "execute_result"
    }
   ],
   "source": [
    "canon_CGI.head()"
   ]
  },
  {
   "cell_type": "markdown",
   "id": "ee89f1a9",
   "metadata": {},
   "source": [
    "# Process Canon CG"
   ]
  },
  {
   "cell_type": "code",
   "execution_count": 26,
   "id": "3c819a98",
   "metadata": {},
   "outputs": [
    {
     "name": "stdout",
     "output_type": "stream",
     "text": [
      "3241617\n"
     ]
    }
   ],
   "source": [
    "df_c = pd.DataFrame()\n",
    "df_c = pd.concat([df_c, canon_CGI])\n",
    "df_c = df_c[df_c['CHROM'].str.contains('X')==False]\n",
    "print(len(df_c))"
   ]
  },
  {
   "cell_type": "code",
   "execution_count": 27,
   "id": "9c0a22f3",
   "metadata": {},
   "outputs": [
    {
     "data": {
      "text/plain": [
       ".             90251\n",
       "ncv_id           11\n",
       "mut               4\n",
       "rs1758914         2\n",
       "rs2630903         2\n",
       "              ...  \n",
       "rs4700160         1\n",
       "rs12519061        1\n",
       "rs13164407        1\n",
       "rs4429803         1\n",
       "rs2238838         1\n",
       "Name: ID, Length: 3151295, dtype: int64"
      ]
     },
     "execution_count": 27,
     "metadata": {},
     "output_type": "execute_result"
    }
   ],
   "source": [
    "df_c['ID'].value_counts()"
   ]
  },
  {
   "cell_type": "code",
   "execution_count": 28,
   "id": "7d2548eb",
   "metadata": {},
   "outputs": [],
   "source": [
    "#Only with known rsids\n",
    "df_c = df_c[df_c['ID'].isin([\".\",\"ncv_id\",\"mut\"]) == False]"
   ]
  },
  {
   "cell_type": "code",
   "execution_count": 29,
   "id": "88a72586",
   "metadata": {},
   "outputs": [
    {
     "data": {
      "text/plain": [
       "3151351"
      ]
     },
     "execution_count": 29,
     "metadata": {},
     "output_type": "execute_result"
    }
   ],
   "source": [
    "len(df_c)"
   ]
  },
  {
   "cell_type": "markdown",
   "id": "156848d6",
   "metadata": {},
   "source": [
    "# Process Imputed 23andMe"
   ]
  },
  {
   "cell_type": "code",
   "execution_count": 30,
   "id": "764675e6",
   "metadata": {},
   "outputs": [],
   "source": [
    "df_i = pd.DataFrame()\n",
    "df_i = pd.concat([df_i,imp_23andMe])"
   ]
  },
  {
   "cell_type": "code",
   "execution_count": 31,
   "id": "3bfc9edc",
   "metadata": {},
   "outputs": [],
   "source": [
    "#SNPs only\n",
    "df_i = df_i[df_i['REF'].str.len() == 1]\n",
    "df_i = df_i[df_i['ALT'].str.len() == 1]"
   ]
  },
  {
   "cell_type": "code",
   "execution_count": 32,
   "id": "11d2a376",
   "metadata": {},
   "outputs": [],
   "source": [
    "#Imputed only\n",
    "df_i = df_i[df_i['INFO'].str.contains('IMP')==True]"
   ]
  },
  {
   "cell_type": "code",
   "execution_count": 33,
   "id": "87b20b75",
   "metadata": {},
   "outputs": [
    {
     "data": {
      "text/plain": [
       "3665576"
      ]
     },
     "execution_count": 33,
     "metadata": {},
     "output_type": "execute_result"
    }
   ],
   "source": [
    "#allele freq > 0.05\n",
    "af_col = df_i['INFO'].str[12:18]\n",
    "af_filter = af_col.astype(float) > 0.05\n",
    "df_i = df_i[af_filter]\n",
    "len(df_i)"
   ]
  },
  {
   "cell_type": "code",
   "execution_count": 34,
   "id": "e628429a",
   "metadata": {},
   "outputs": [],
   "source": [
    "#Remove entries missing external IDs\n",
    "df_i = df_i[df_i['ID']!='.']"
   ]
  },
  {
   "cell_type": "markdown",
   "id": "b1991ad7",
   "metadata": {},
   "source": [
    "- df_c only contains complete genomics variants that were present in the original file, of passing quality\n",
    "- df_i contains all imputed variants based on a 23andMe file for the same individual, not including the original variants\n",
    "- Taking the intersection of these two datasets will result in positions that were imputed from the 23andMe file that are also present in the original CGI file, allowing for comparison of imputed variants to real variant calls"
   ]
  },
  {
   "cell_type": "code",
   "execution_count": 36,
   "id": "6308e6b6",
   "metadata": {},
   "outputs": [],
   "source": [
    "#df_i"
   ]
  },
  {
   "cell_type": "code",
   "execution_count": 37,
   "id": "aed6f318",
   "metadata": {},
   "outputs": [],
   "source": [
    "df_i['unique_id'] = df_i['ID'].str.slice(start=2)\n",
    "df_c['unique_id'] = df_c['ID'].str.slice(start=2)"
   ]
  },
  {
   "cell_type": "code",
   "execution_count": 39,
   "id": "c5fdf181",
   "metadata": {},
   "outputs": [],
   "source": [
    "df_i['unique_id'] = df_i['unique_id'].astype(int)\n",
    "df_c['unique_id'] = df_c['unique_id'].astype(int)"
   ]
  },
  {
   "cell_type": "code",
   "execution_count": 40,
   "id": "ee0a8939",
   "metadata": {},
   "outputs": [],
   "source": [
    "df_i = df_i.sort_values('unique_id')\n",
    "df_c = df_c.sort_values('unique_id')"
   ]
  },
  {
   "cell_type": "code",
   "execution_count": 41,
   "id": "62e79a0f",
   "metadata": {},
   "outputs": [],
   "source": [
    "df_m = pd.merge(df_i, df_c, on=\"unique_id\")"
   ]
  },
  {
   "cell_type": "code",
   "execution_count": 42,
   "id": "74a2197a",
   "metadata": {},
   "outputs": [
    {
     "data": {
      "text/plain": [
       "['CHROM_x',\n",
       " 'POS_x',\n",
       " 'ID_x',\n",
       " 'REF_x',\n",
       " 'ALT_x',\n",
       " 'FILTER_x',\n",
       " 'INFO_x',\n",
       " 'hu1AF4ED_x',\n",
       " 'unique_id',\n",
       " 'REF_y',\n",
       " 'ALT_y',\n",
       " 'hu1AF4ED_y']"
      ]
     },
     "execution_count": 42,
     "metadata": {},
     "output_type": "execute_result"
    }
   ],
   "source": [
    "cols = df_m.columns\n",
    "rem = ['QUAL_x','QUAL_y','FILTER_y','INFO_y','FORMAT_x','FORMAT_y','CHROM_y','POS_y','ID_y']\n",
    "cols = [col for col in cols if col not in rem]\n",
    "cols"
   ]
  },
  {
   "cell_type": "code",
   "execution_count": 43,
   "id": "07d16030",
   "metadata": {},
   "outputs": [],
   "source": [
    "df_m = df_m[cols]"
   ]
  },
  {
   "cell_type": "code",
   "execution_count": 44,
   "id": "f87a48fe",
   "metadata": {},
   "outputs": [
    {
     "data": {
      "text/html": [
       "<div>\n",
       "<style scoped>\n",
       "    .dataframe tbody tr th:only-of-type {\n",
       "        vertical-align: middle;\n",
       "    }\n",
       "\n",
       "    .dataframe tbody tr th {\n",
       "        vertical-align: top;\n",
       "    }\n",
       "\n",
       "    .dataframe thead th {\n",
       "        text-align: right;\n",
       "    }\n",
       "</style>\n",
       "<table border=\"1\" class=\"dataframe\">\n",
       "  <thead>\n",
       "    <tr style=\"text-align: right;\">\n",
       "      <th></th>\n",
       "      <th>CHROM_x</th>\n",
       "      <th>POS_x</th>\n",
       "      <th>ID_x</th>\n",
       "      <th>REF_x</th>\n",
       "      <th>ALT_x</th>\n",
       "      <th>FILTER_x</th>\n",
       "      <th>INFO_x</th>\n",
       "      <th>hu1AF4ED_x</th>\n",
       "      <th>unique_id</th>\n",
       "      <th>REF_y</th>\n",
       "      <th>ALT_y</th>\n",
       "      <th>hu1AF4ED_y</th>\n",
       "    </tr>\n",
       "  </thead>\n",
       "  <tbody>\n",
       "    <tr>\n",
       "      <th>0</th>\n",
       "      <td>7</td>\n",
       "      <td>92383888</td>\n",
       "      <td>rs10</td>\n",
       "      <td>A</td>\n",
       "      <td>C</td>\n",
       "      <td>PASS</td>\n",
       "      <td>DR2=0.00;AF=0.9997;IMP</td>\n",
       "      <td>1|1:2</td>\n",
       "      <td>10</td>\n",
       "      <td>A</td>\n",
       "      <td>C</td>\n",
       "      <td>1/1</td>\n",
       "    </tr>\n",
       "    <tr>\n",
       "      <th>1</th>\n",
       "      <td>7</td>\n",
       "      <td>11597105</td>\n",
       "      <td>rs20</td>\n",
       "      <td>G</td>\n",
       "      <td>A</td>\n",
       "      <td>PASS</td>\n",
       "      <td>DR2=0.00;AF=1.0000;IMP</td>\n",
       "      <td>1|1:2</td>\n",
       "      <td>20</td>\n",
       "      <td>G</td>\n",
       "      <td>A</td>\n",
       "      <td>1/1</td>\n",
       "    </tr>\n",
       "    <tr>\n",
       "      <th>2</th>\n",
       "      <td>7</td>\n",
       "      <td>11596296</td>\n",
       "      <td>rs23</td>\n",
       "      <td>T</td>\n",
       "      <td>C</td>\n",
       "      <td>PASS</td>\n",
       "      <td>DR2=0.00;AF=1.0000;IMP</td>\n",
       "      <td>1|1:2</td>\n",
       "      <td>23</td>\n",
       "      <td>T</td>\n",
       "      <td>C</td>\n",
       "      <td>1/1</td>\n",
       "    </tr>\n",
       "    <tr>\n",
       "      <th>3</th>\n",
       "      <td>7</td>\n",
       "      <td>11598219</td>\n",
       "      <td>rs24</td>\n",
       "      <td>G</td>\n",
       "      <td>C</td>\n",
       "      <td>PASS</td>\n",
       "      <td>DR2=0.00;AF=1.0000;IMP</td>\n",
       "      <td>1|1:2</td>\n",
       "      <td>24</td>\n",
       "      <td>G</td>\n",
       "      <td>C</td>\n",
       "      <td>1/1</td>\n",
       "    </tr>\n",
       "    <tr>\n",
       "      <th>4</th>\n",
       "      <td>7</td>\n",
       "      <td>11583225</td>\n",
       "      <td>rs27</td>\n",
       "      <td>G</td>\n",
       "      <td>C</td>\n",
       "      <td>PASS</td>\n",
       "      <td>DR2=0.00;AF=1.0000;IMP</td>\n",
       "      <td>1|1:2</td>\n",
       "      <td>27</td>\n",
       "      <td>G</td>\n",
       "      <td>C</td>\n",
       "      <td>1/1</td>\n",
       "    </tr>\n",
       "    <tr>\n",
       "      <th>...</th>\n",
       "      <td>...</td>\n",
       "      <td>...</td>\n",
       "      <td>...</td>\n",
       "      <td>...</td>\n",
       "      <td>...</td>\n",
       "      <td>...</td>\n",
       "      <td>...</td>\n",
       "      <td>...</td>\n",
       "      <td>...</td>\n",
       "      <td>...</td>\n",
       "      <td>...</td>\n",
       "      <td>...</td>\n",
       "    </tr>\n",
       "    <tr>\n",
       "      <th>2721429</th>\n",
       "      <td>13</td>\n",
       "      <td>19847553</td>\n",
       "      <td>rs202234027</td>\n",
       "      <td>T</td>\n",
       "      <td>C</td>\n",
       "      <td>PASS</td>\n",
       "      <td>DR2=0.00;AF=1.0000;IMP</td>\n",
       "      <td>1|1:2</td>\n",
       "      <td>202234027</td>\n",
       "      <td>T</td>\n",
       "      <td>C</td>\n",
       "      <td>1/1</td>\n",
       "    </tr>\n",
       "    <tr>\n",
       "      <th>2721430</th>\n",
       "      <td>11</td>\n",
       "      <td>117683565</td>\n",
       "      <td>rs202234193</td>\n",
       "      <td>A</td>\n",
       "      <td>C</td>\n",
       "      <td>PASS</td>\n",
       "      <td>DR2=0.51;AF=0.6631;IMP</td>\n",
       "      <td>1|0:1.33</td>\n",
       "      <td>202234193</td>\n",
       "      <td>A</td>\n",
       "      <td>C</td>\n",
       "      <td>0/1</td>\n",
       "    </tr>\n",
       "    <tr>\n",
       "      <th>2721431</th>\n",
       "      <td>8</td>\n",
       "      <td>80656962</td>\n",
       "      <td>rs202239594</td>\n",
       "      <td>A</td>\n",
       "      <td>G</td>\n",
       "      <td>PASS</td>\n",
       "      <td>DR2=0.92;AF=0.4792;IMP</td>\n",
       "      <td>1|0:0.96</td>\n",
       "      <td>202239594</td>\n",
       "      <td>A</td>\n",
       "      <td>G</td>\n",
       "      <td>0/1</td>\n",
       "    </tr>\n",
       "    <tr>\n",
       "      <th>2721432</th>\n",
       "      <td>20</td>\n",
       "      <td>15313597</td>\n",
       "      <td>rs202239817</td>\n",
       "      <td>T</td>\n",
       "      <td>C</td>\n",
       "      <td>PASS</td>\n",
       "      <td>DR2=1.00;AF=0.5000;IMP</td>\n",
       "      <td>1|0:1</td>\n",
       "      <td>202239817</td>\n",
       "      <td>T</td>\n",
       "      <td>C</td>\n",
       "      <td>0/1</td>\n",
       "    </tr>\n",
       "    <tr>\n",
       "      <th>2721433</th>\n",
       "      <td>1</td>\n",
       "      <td>146956558</td>\n",
       "      <td>rs202247071</td>\n",
       "      <td>T</td>\n",
       "      <td>A</td>\n",
       "      <td>PASS</td>\n",
       "      <td>DR2=0.99;AF=0.4975;IMP</td>\n",
       "      <td>1|0:0.99</td>\n",
       "      <td>202247071</td>\n",
       "      <td>T</td>\n",
       "      <td>A</td>\n",
       "      <td>0/1</td>\n",
       "    </tr>\n",
       "  </tbody>\n",
       "</table>\n",
       "<p>2721434 rows × 12 columns</p>\n",
       "</div>"
      ],
      "text/plain": [
       "        CHROM_x      POS_x         ID_x REF_x ALT_x FILTER_x  \\\n",
       "0             7   92383888         rs10     A     C     PASS   \n",
       "1             7   11597105         rs20     G     A     PASS   \n",
       "2             7   11596296         rs23     T     C     PASS   \n",
       "3             7   11598219         rs24     G     C     PASS   \n",
       "4             7   11583225         rs27     G     C     PASS   \n",
       "...         ...        ...          ...   ...   ...      ...   \n",
       "2721429      13   19847553  rs202234027     T     C     PASS   \n",
       "2721430      11  117683565  rs202234193     A     C     PASS   \n",
       "2721431       8   80656962  rs202239594     A     G     PASS   \n",
       "2721432      20   15313597  rs202239817     T     C     PASS   \n",
       "2721433       1  146956558  rs202247071     T     A     PASS   \n",
       "\n",
       "                         INFO_x hu1AF4ED_x  unique_id REF_y ALT_y hu1AF4ED_y  \n",
       "0        DR2=0.00;AF=0.9997;IMP      1|1:2         10     A     C        1/1  \n",
       "1        DR2=0.00;AF=1.0000;IMP      1|1:2         20     G     A        1/1  \n",
       "2        DR2=0.00;AF=1.0000;IMP      1|1:2         23     T     C        1/1  \n",
       "3        DR2=0.00;AF=1.0000;IMP      1|1:2         24     G     C        1/1  \n",
       "4        DR2=0.00;AF=1.0000;IMP      1|1:2         27     G     C        1/1  \n",
       "...                         ...        ...        ...   ...   ...        ...  \n",
       "2721429  DR2=0.00;AF=1.0000;IMP      1|1:2  202234027     T     C        1/1  \n",
       "2721430  DR2=0.51;AF=0.6631;IMP   1|0:1.33  202234193     A     C        0/1  \n",
       "2721431  DR2=0.92;AF=0.4792;IMP   1|0:0.96  202239594     A     G        0/1  \n",
       "2721432  DR2=1.00;AF=0.5000;IMP      1|0:1  202239817     T     C        0/1  \n",
       "2721433  DR2=0.99;AF=0.4975;IMP   1|0:0.99  202247071     T     A        0/1  \n",
       "\n",
       "[2721434 rows x 12 columns]"
      ]
     },
     "execution_count": 44,
     "metadata": {},
     "output_type": "execute_result"
    }
   ],
   "source": [
    "df_m"
   ]
  },
  {
   "cell_type": "code",
   "execution_count": 45,
   "id": "8279cdeb",
   "metadata": {},
   "outputs": [],
   "source": [
    "to_int = lambda x: [int(item) for item in x]\n",
    "sum_func = lambda x: sum(x)"
   ]
  },
  {
   "cell_type": "code",
   "execution_count": 48,
   "id": "8193b63c",
   "metadata": {},
   "outputs": [],
   "source": [
    "df_m['sum_x'] = df_m['hu1AF4ED_x'].str.slice(start=0, stop = 3)\n",
    "df_m['sum_x'] = df_m['sum_x'].str.split('|').tolist()\n",
    "df_m['sum_x'] = df_m['sum_x'].apply(to_int)\n",
    "df_m['sum_x'] = df_m['sum_x'].apply(sum_func)"
   ]
  },
  {
   "cell_type": "code",
   "execution_count": 49,
   "id": "617c9327",
   "metadata": {},
   "outputs": [],
   "source": [
    "df_m['sum_y'] = df_m['hu1AF4ED_y'].str.split('/').tolist()\n",
    "df_m['sum_y'] = df_m['sum_y'].apply(to_int)\n",
    "df_m['sum_y'] = df_m['sum_y'].apply(sum_func)"
   ]
  },
  {
   "cell_type": "code",
   "execution_count": 50,
   "id": "4fd4a665",
   "metadata": {},
   "outputs": [
    {
     "data": {
      "text/html": [
       "<div>\n",
       "<style scoped>\n",
       "    .dataframe tbody tr th:only-of-type {\n",
       "        vertical-align: middle;\n",
       "    }\n",
       "\n",
       "    .dataframe tbody tr th {\n",
       "        vertical-align: top;\n",
       "    }\n",
       "\n",
       "    .dataframe thead th {\n",
       "        text-align: right;\n",
       "    }\n",
       "</style>\n",
       "<table border=\"1\" class=\"dataframe\">\n",
       "  <thead>\n",
       "    <tr style=\"text-align: right;\">\n",
       "      <th></th>\n",
       "      <th>CHROM_x</th>\n",
       "      <th>POS_x</th>\n",
       "      <th>ID_x</th>\n",
       "      <th>REF_x</th>\n",
       "      <th>ALT_x</th>\n",
       "      <th>FILTER_x</th>\n",
       "      <th>INFO_x</th>\n",
       "      <th>hu1AF4ED_x</th>\n",
       "      <th>unique_id</th>\n",
       "      <th>REF_y</th>\n",
       "      <th>ALT_y</th>\n",
       "      <th>hu1AF4ED_y</th>\n",
       "      <th>sum_x</th>\n",
       "      <th>sum_y</th>\n",
       "    </tr>\n",
       "  </thead>\n",
       "  <tbody>\n",
       "    <tr>\n",
       "      <th>0</th>\n",
       "      <td>7</td>\n",
       "      <td>92383888</td>\n",
       "      <td>rs10</td>\n",
       "      <td>A</td>\n",
       "      <td>C</td>\n",
       "      <td>PASS</td>\n",
       "      <td>DR2=0.00;AF=0.9997;IMP</td>\n",
       "      <td>1|1:2</td>\n",
       "      <td>10</td>\n",
       "      <td>A</td>\n",
       "      <td>C</td>\n",
       "      <td>1/1</td>\n",
       "      <td>2</td>\n",
       "      <td>2</td>\n",
       "    </tr>\n",
       "    <tr>\n",
       "      <th>1</th>\n",
       "      <td>7</td>\n",
       "      <td>11597105</td>\n",
       "      <td>rs20</td>\n",
       "      <td>G</td>\n",
       "      <td>A</td>\n",
       "      <td>PASS</td>\n",
       "      <td>DR2=0.00;AF=1.0000;IMP</td>\n",
       "      <td>1|1:2</td>\n",
       "      <td>20</td>\n",
       "      <td>G</td>\n",
       "      <td>A</td>\n",
       "      <td>1/1</td>\n",
       "      <td>2</td>\n",
       "      <td>2</td>\n",
       "    </tr>\n",
       "    <tr>\n",
       "      <th>2</th>\n",
       "      <td>7</td>\n",
       "      <td>11596296</td>\n",
       "      <td>rs23</td>\n",
       "      <td>T</td>\n",
       "      <td>C</td>\n",
       "      <td>PASS</td>\n",
       "      <td>DR2=0.00;AF=1.0000;IMP</td>\n",
       "      <td>1|1:2</td>\n",
       "      <td>23</td>\n",
       "      <td>T</td>\n",
       "      <td>C</td>\n",
       "      <td>1/1</td>\n",
       "      <td>2</td>\n",
       "      <td>2</td>\n",
       "    </tr>\n",
       "    <tr>\n",
       "      <th>3</th>\n",
       "      <td>7</td>\n",
       "      <td>11598219</td>\n",
       "      <td>rs24</td>\n",
       "      <td>G</td>\n",
       "      <td>C</td>\n",
       "      <td>PASS</td>\n",
       "      <td>DR2=0.00;AF=1.0000;IMP</td>\n",
       "      <td>1|1:2</td>\n",
       "      <td>24</td>\n",
       "      <td>G</td>\n",
       "      <td>C</td>\n",
       "      <td>1/1</td>\n",
       "      <td>2</td>\n",
       "      <td>2</td>\n",
       "    </tr>\n",
       "    <tr>\n",
       "      <th>4</th>\n",
       "      <td>7</td>\n",
       "      <td>11583225</td>\n",
       "      <td>rs27</td>\n",
       "      <td>G</td>\n",
       "      <td>C</td>\n",
       "      <td>PASS</td>\n",
       "      <td>DR2=0.00;AF=1.0000;IMP</td>\n",
       "      <td>1|1:2</td>\n",
       "      <td>27</td>\n",
       "      <td>G</td>\n",
       "      <td>C</td>\n",
       "      <td>1/1</td>\n",
       "      <td>2</td>\n",
       "      <td>2</td>\n",
       "    </tr>\n",
       "    <tr>\n",
       "      <th>...</th>\n",
       "      <td>...</td>\n",
       "      <td>...</td>\n",
       "      <td>...</td>\n",
       "      <td>...</td>\n",
       "      <td>...</td>\n",
       "      <td>...</td>\n",
       "      <td>...</td>\n",
       "      <td>...</td>\n",
       "      <td>...</td>\n",
       "      <td>...</td>\n",
       "      <td>...</td>\n",
       "      <td>...</td>\n",
       "      <td>...</td>\n",
       "      <td>...</td>\n",
       "    </tr>\n",
       "    <tr>\n",
       "      <th>2721429</th>\n",
       "      <td>13</td>\n",
       "      <td>19847553</td>\n",
       "      <td>rs202234027</td>\n",
       "      <td>T</td>\n",
       "      <td>C</td>\n",
       "      <td>PASS</td>\n",
       "      <td>DR2=0.00;AF=1.0000;IMP</td>\n",
       "      <td>1|1:2</td>\n",
       "      <td>202234027</td>\n",
       "      <td>T</td>\n",
       "      <td>C</td>\n",
       "      <td>1/1</td>\n",
       "      <td>2</td>\n",
       "      <td>2</td>\n",
       "    </tr>\n",
       "    <tr>\n",
       "      <th>2721430</th>\n",
       "      <td>11</td>\n",
       "      <td>117683565</td>\n",
       "      <td>rs202234193</td>\n",
       "      <td>A</td>\n",
       "      <td>C</td>\n",
       "      <td>PASS</td>\n",
       "      <td>DR2=0.51;AF=0.6631;IMP</td>\n",
       "      <td>1|0:1.33</td>\n",
       "      <td>202234193</td>\n",
       "      <td>A</td>\n",
       "      <td>C</td>\n",
       "      <td>0/1</td>\n",
       "      <td>1</td>\n",
       "      <td>1</td>\n",
       "    </tr>\n",
       "    <tr>\n",
       "      <th>2721431</th>\n",
       "      <td>8</td>\n",
       "      <td>80656962</td>\n",
       "      <td>rs202239594</td>\n",
       "      <td>A</td>\n",
       "      <td>G</td>\n",
       "      <td>PASS</td>\n",
       "      <td>DR2=0.92;AF=0.4792;IMP</td>\n",
       "      <td>1|0:0.96</td>\n",
       "      <td>202239594</td>\n",
       "      <td>A</td>\n",
       "      <td>G</td>\n",
       "      <td>0/1</td>\n",
       "      <td>1</td>\n",
       "      <td>1</td>\n",
       "    </tr>\n",
       "    <tr>\n",
       "      <th>2721432</th>\n",
       "      <td>20</td>\n",
       "      <td>15313597</td>\n",
       "      <td>rs202239817</td>\n",
       "      <td>T</td>\n",
       "      <td>C</td>\n",
       "      <td>PASS</td>\n",
       "      <td>DR2=1.00;AF=0.5000;IMP</td>\n",
       "      <td>1|0:1</td>\n",
       "      <td>202239817</td>\n",
       "      <td>T</td>\n",
       "      <td>C</td>\n",
       "      <td>0/1</td>\n",
       "      <td>1</td>\n",
       "      <td>1</td>\n",
       "    </tr>\n",
       "    <tr>\n",
       "      <th>2721433</th>\n",
       "      <td>1</td>\n",
       "      <td>146956558</td>\n",
       "      <td>rs202247071</td>\n",
       "      <td>T</td>\n",
       "      <td>A</td>\n",
       "      <td>PASS</td>\n",
       "      <td>DR2=0.99;AF=0.4975;IMP</td>\n",
       "      <td>1|0:0.99</td>\n",
       "      <td>202247071</td>\n",
       "      <td>T</td>\n",
       "      <td>A</td>\n",
       "      <td>0/1</td>\n",
       "      <td>1</td>\n",
       "      <td>1</td>\n",
       "    </tr>\n",
       "  </tbody>\n",
       "</table>\n",
       "<p>2721434 rows × 14 columns</p>\n",
       "</div>"
      ],
      "text/plain": [
       "        CHROM_x      POS_x         ID_x REF_x ALT_x FILTER_x  \\\n",
       "0             7   92383888         rs10     A     C     PASS   \n",
       "1             7   11597105         rs20     G     A     PASS   \n",
       "2             7   11596296         rs23     T     C     PASS   \n",
       "3             7   11598219         rs24     G     C     PASS   \n",
       "4             7   11583225         rs27     G     C     PASS   \n",
       "...         ...        ...          ...   ...   ...      ...   \n",
       "2721429      13   19847553  rs202234027     T     C     PASS   \n",
       "2721430      11  117683565  rs202234193     A     C     PASS   \n",
       "2721431       8   80656962  rs202239594     A     G     PASS   \n",
       "2721432      20   15313597  rs202239817     T     C     PASS   \n",
       "2721433       1  146956558  rs202247071     T     A     PASS   \n",
       "\n",
       "                         INFO_x hu1AF4ED_x  unique_id REF_y ALT_y hu1AF4ED_y  \\\n",
       "0        DR2=0.00;AF=0.9997;IMP      1|1:2         10     A     C        1/1   \n",
       "1        DR2=0.00;AF=1.0000;IMP      1|1:2         20     G     A        1/1   \n",
       "2        DR2=0.00;AF=1.0000;IMP      1|1:2         23     T     C        1/1   \n",
       "3        DR2=0.00;AF=1.0000;IMP      1|1:2         24     G     C        1/1   \n",
       "4        DR2=0.00;AF=1.0000;IMP      1|1:2         27     G     C        1/1   \n",
       "...                         ...        ...        ...   ...   ...        ...   \n",
       "2721429  DR2=0.00;AF=1.0000;IMP      1|1:2  202234027     T     C        1/1   \n",
       "2721430  DR2=0.51;AF=0.6631;IMP   1|0:1.33  202234193     A     C        0/1   \n",
       "2721431  DR2=0.92;AF=0.4792;IMP   1|0:0.96  202239594     A     G        0/1   \n",
       "2721432  DR2=1.00;AF=0.5000;IMP      1|0:1  202239817     T     C        0/1   \n",
       "2721433  DR2=0.99;AF=0.4975;IMP   1|0:0.99  202247071     T     A        0/1   \n",
       "\n",
       "         sum_x  sum_y  \n",
       "0            2      2  \n",
       "1            2      2  \n",
       "2            2      2  \n",
       "3            2      2  \n",
       "4            2      2  \n",
       "...        ...    ...  \n",
       "2721429      2      2  \n",
       "2721430      1      1  \n",
       "2721431      1      1  \n",
       "2721432      1      1  \n",
       "2721433      1      1  \n",
       "\n",
       "[2721434 rows x 14 columns]"
      ]
     },
     "execution_count": 50,
     "metadata": {},
     "output_type": "execute_result"
    }
   ],
   "source": [
    "df_m"
   ]
  },
  {
   "cell_type": "code",
   "execution_count": 52,
   "id": "f2c9da63",
   "metadata": {},
   "outputs": [],
   "source": [
    "df_equiv = df_m[df_m['sum_x'] == df_m['sum_y']]\n",
    "df_unequiv = df_m[df_m['sum_x'] != df_m['sum_y']]"
   ]
  },
  {
   "cell_type": "code",
   "execution_count": 53,
   "id": "ffb53a88",
   "metadata": {},
   "outputs": [],
   "source": [
    "import seaborn as sns, numpy as np\n",
    "import matplotlib.pyplot as plt\n",
    "#ax = sns.displot(x, bins = 50)\n",
    "#displot\n",
    "#histplot"
   ]
  },
  {
   "cell_type": "code",
   "execution_count": 54,
   "id": "04860932",
   "metadata": {},
   "outputs": [],
   "source": [
    "equiv_scores = df_equiv['INFO_x'].str.slice(start = 4, stop =7)\n",
    "equiv_scores = sorted(equiv_scores)"
   ]
  },
  {
   "cell_type": "code",
   "execution_count": 55,
   "id": "4f8b0013",
   "metadata": {},
   "outputs": [
    {
     "data": {
      "image/png": "[encoded data removed]",
      "text/plain": [
       "<Figure size 500x500 with 1 Axes>"
      ]
     },
     "metadata": {},
     "output_type": "display_data"
    }
   ],
   "source": [
    "x = sns.displot(equiv_scores, bins=50)\n",
    "plt.show()"
   ]
  },
  {
   "cell_type": "code",
   "execution_count": 56,
   "id": "f84faddc",
   "metadata": {},
   "outputs": [],
   "source": [
    "unequiv_scores = df_unequiv['INFO_x'].str.slice(start = 4, stop =7)\n",
    "unequiv_scores = sorted(unequiv_scores)"
   ]
  },
  {
   "cell_type": "code",
   "execution_count": 57,
   "id": "1895da39",
   "metadata": {},
   "outputs": [
    {
     "data": {
      "image/png": "[encoded data removed]",
      "text/plain": [
       "<Figure size 500x500 with 1 Axes>"
      ]
     },
     "metadata": {},
     "output_type": "display_data"
    }
   ],
   "source": [
    "x = sns.displot(unequiv_scores, bins=50)\n",
    "plt.show()"
   ]
  },
  {
   "cell_type": "code",
   "execution_count": 70,
   "id": "b2ba7c5c",
   "metadata": {},
   "outputs": [
    {
     "data": {
      "image/png": "[encoded data removed]",
      "text/plain": [
       "<Figure size 640x480 with 1 Axes>"
      ]
     },
     "metadata": {},
     "output_type": "display_data"
    }
   ],
   "source": [
    "#Superimposed plots\n",
    "sns.histplot(equiv_scores, bins=50, color='blue', label='Correctly Imputed')\n",
    "sns.histplot(unequiv_scores, bins=50, color='red', label='Incorrectly Imputed')\n",
    "\n",
    "plt.xlabel('Imputation DR2 Score')  \n",
    "plt.ylabel('Variant Counts')  \n",
    "plt.title('Comparing Imputation Accuracy Score to Correct/Incorrect Calls', y=1.05)\n",
    "\n",
    "plt.legend()\n",
    "plt.show()"
   ]
  },
  {
   "cell_type": "code",
   "execution_count": null,
   "id": "37ecc64c",
   "metadata": {},
   "outputs": [],
   "source": [
    "# DR2 =  subfield with the estimated squared correlation between the estimated allele dose and the true allele dose"
   ]
  },
  {
   "cell_type": "code",
   "execution_count": 58,
   "id": "148e7998",
   "metadata": {},
   "outputs": [],
   "source": [
    "c_unequiv = len(unequiv_scores)"
   ]
  },
  {
   "cell_type": "code",
   "execution_count": 59,
   "id": "b2aa12a9",
   "metadata": {},
   "outputs": [],
   "source": [
    "c_equiv = len(equiv_scores)\n",
    "total = c_equiv+c_unequiv"
   ]
  },
  {
   "cell_type": "code",
   "execution_count": 60,
   "id": "fb016649",
   "metadata": {},
   "outputs": [
    {
     "name": "stdout",
     "output_type": "stream",
     "text": [
      "0.02811054760100741\n"
     ]
    }
   ],
   "source": [
    "print(c_unequiv/total)"
   ]
  },
  {
   "cell_type": "code",
   "execution_count": 61,
   "id": "eb3186dd",
   "metadata": {},
   "outputs": [],
   "source": [
    "num = 15000+12500+7500"
   ]
  },
  {
   "cell_type": "code",
   "execution_count": 62,
   "id": "f53e8732",
   "metadata": {},
   "outputs": [],
   "source": [
    "improved = c_unequiv - num"
   ]
  },
  {
   "cell_type": "code",
   "execution_count": 63,
   "id": "19369582",
   "metadata": {},
   "outputs": [
    {
     "name": "stdout",
     "output_type": "stream",
     "text": [
      "0.015249680866778324\n"
     ]
    }
   ],
   "source": [
    "print(improved/total)"
   ]
  },
  {
   "cell_type": "code",
   "execution_count": 64,
   "id": "ae1e0e12",
   "metadata": {},
   "outputs": [],
   "source": [
    "seen = set()\n",
    "for item in equiv_scores:\n",
    "    if item not in seen:\n",
    "        seen.add(item)\n",
    "        \n",
    "counts = {item:0 for item in seen}\n",
    "for item in equiv_scores:\n",
    "    counts[item] +=1"
   ]
  },
  {
   "cell_type": "code",
   "execution_count": 65,
   "id": "78c496c1",
   "metadata": {},
   "outputs": [
    {
     "data": {
      "text/plain": [
       "{'0.7': 23676,\n",
       " '0.4': 12822,\n",
       " '0.6': 16911,\n",
       " '0.9': 196992,\n",
       " '0.0': 1041239,\n",
       " '0.5': 15326,\n",
       " '1.0': 1269312,\n",
       " '0.1': 11931,\n",
       " '0.2': 6651,\n",
       " '0.3': 9830,\n",
       " '0.8': 40243}"
      ]
     },
     "execution_count": 65,
     "metadata": {},
     "output_type": "execute_result"
    }
   ],
   "source": [
    "counts"
   ]
  }
 ],
 "metadata": {
  "kernelspec": {
   "display_name": "Python 3 (ipykernel)",
   "language": "python",
   "name": "python3"
  },
  "language_info": {
   "codemirror_mode": {
    "name": "ipython",
    "version": 3
   },
   "file_extension": ".py",
   "mimetype": "text/x-python",
   "name": "python",
   "nbconvert_exporter": "python",
   "pygments_lexer": "ipython3",
   "version": "3.9.13"
  }
 },
 "nbformat": 4,
 "nbformat_minor": 5
}
